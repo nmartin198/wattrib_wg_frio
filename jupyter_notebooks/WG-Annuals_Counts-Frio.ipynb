{
 "cells": [
  {
   "cell_type": "markdown",
   "id": "d17701af-73e7-47b3-8cde-e5afb9dfdf23",
   "metadata": {},
   "source": [
    "# Weather Generator, Annual Averages and Counts: Frio"
   ]
  },
  {
   "cell_type": "markdown",
   "id": "fa4c8225-39c3-4591-8323-8e6ec503eaa9",
   "metadata": {},
   "source": [
    "The purpose of this notebook is to calculate annual average precipitation, PET, and deficit for comparison to 1991-2020 values and to count SPEI and SPI values below/above a threshold."
   ]
  },
  {
   "cell_type": "markdown",
   "id": "b84a9524-05c7-4c01-a94f-9195230b27a5",
   "metadata": {},
   "source": [
    "## Imports and Parameters"
   ]
  },
  {
   "cell_type": "code",
   "execution_count": 1,
   "id": "c6b88a2e-4a72-4087-b762-dcbf3fe3f0cf",
   "metadata": {},
   "outputs": [],
   "source": [
    "%matplotlib inline"
   ]
  },
  {
   "cell_type": "code",
   "execution_count": 2,
   "id": "553f2e5e-02fd-42f6-b25a-ff9ab2803a92",
   "metadata": {},
   "outputs": [],
   "source": [
    "import os\n",
    "from IPython.display import display, HTML\n",
    "import pandas as pd\n",
    "import numpy as np\n",
    "import matplotlib as mpl\n",
    "import matplotlib.pyplot as plt\n",
    "from scipy import stats as sstats\n",
    "from math import exp\n",
    "import datetime as dt\n",
    "import seaborn as sns\n",
    "import pickle\n",
    "from copy import deepcopy"
   ]
  },
  {
   "cell_type": "code",
   "execution_count": 3,
   "id": "a795dfa4-f5e5-479a-85e7-4298d189e5b4",
   "metadata": {},
   "outputs": [],
   "source": [
    "BasKey = \"Frio\""
   ]
  },
  {
   "cell_type": "code",
   "execution_count": 4,
   "id": "24768bd8-d0ee-4c66-8e9a-e80b6512cb42",
   "metadata": {},
   "outputs": [],
   "source": [
    "NumReal = 1000"
   ]
  },
  {
   "cell_type": "code",
   "execution_count": 5,
   "id": "9448731a-804d-449c-910c-488bb95a84cf",
   "metadata": {},
   "outputs": [],
   "source": [
    "plt.rcParams['svg.fonttype'] = 'none'"
   ]
  },
  {
   "cell_type": "code",
   "execution_count": 6,
   "id": "87aa9bc7-21e5-488b-901a-145117c3d1b7",
   "metadata": {},
   "outputs": [],
   "source": [
    "IN_DIR1 = r'C:\\Users\\nmartin\\Documents\\EAA_Drought_Future_Weather\\NumModels\\Final\\%s\\Results\\Simulated' % BasKey\n",
    "IN_DIR2 = r'C:\\Users\\nmartin\\Documents\\EAA_HCP\\Data\\SwRI_Processed\\LOCA2\\CN2031_2060'\n",
    "IN_DIR3 = r'C:\\Users\\nmartin\\Documents\\EAA_HCP\\Data\\SwRI_Processed\\Processed_Historical'\n",
    "OUT_DIR = r'C:\\Users\\nmartin\\Documents\\EAA_Drought_Future_Weather\\NumModels\\Final\\%s\\Results\\Processed' % BasKey"
   ]
  },
  {
   "cell_type": "code",
   "execution_count": 7,
   "id": "6c96ee83-328b-4d4f-82dc-002fcc744bae",
   "metadata": {},
   "outputs": [
    {
     "data": {
      "text/plain": [
       "30"
      ]
     },
     "execution_count": 7,
     "metadata": {},
     "output_type": "execute_result"
    }
   ],
   "source": [
    "CNStartTS = pd.Timestamp( 2031, 1, 1, )\n",
    "CNStopTS = pd.Timestamp( 2060, 12, 31, 23, 59, )\n",
    "CNAnnIndexer = pd.date_range( start=CNStartTS, end=CNStopTS, freq='AS' )\n",
    "len( CNAnnIndexer )"
   ]
  },
  {
   "cell_type": "code",
   "execution_count": 8,
   "id": "e12a7a69-4399-429b-857f-10f7ce3cd074",
   "metadata": {},
   "outputs": [
    {
     "data": {
      "text/plain": [
       "42"
      ]
     },
     "execution_count": 8,
     "metadata": {},
     "output_type": "execute_result"
    }
   ],
   "source": [
    "SimStartTS = pd.Timestamp(2024, 1, 1, 0, )\n",
    "SimStopTS = pd.Timestamp( 2065, 12, 31, 23, 59, )\n",
    "OAAnnIndexer = pd.date_range( start=SimStartTS, end=SimStopTS, freq='AS' )\n",
    "len( OAAnnIndexer )"
   ]
  },
  {
   "cell_type": "code",
   "execution_count": 9,
   "id": "d5e13543-1455-4f82-bb28-9dab7b5e6638",
   "metadata": {},
   "outputs": [],
   "source": [
    "ProjFileRoot = \"%s_R%d_DF.pickle\""
   ]
  },
  {
   "cell_type": "code",
   "execution_count": 10,
   "id": "d078d4e0-f628-4bcd-8c5d-5fcaf72b6a2f",
   "metadata": {},
   "outputs": [],
   "source": [
    "ColsList = list()\n",
    "for cR in range(1, NumReal+1):\n",
    "    ColsList.append( \"R%04d\" % cR )\n",
    "# end for"
   ]
  },
  {
   "cell_type": "code",
   "execution_count": 11,
   "id": "9b5e9b1d-0010-46ad-937d-50c19aefa911",
   "metadata": {},
   "outputs": [],
   "source": [
    "# our standard normal or ZScore parameters\n",
    "ZMu = 0.0\n",
    "ZStd = 1.0"
   ]
  },
  {
   "cell_type": "markdown",
   "id": "2b71ef3c-70d0-4f66-b994-e4b9d862f88e",
   "metadata": {},
   "source": [
    "## Collate Annual Averages"
   ]
  },
  {
   "cell_type": "markdown",
   "id": "d3fc85df-c804-4192-a199-98a563b5461d",
   "metadata": {},
   "source": [
    "Go through all realizations and get annual averages for the entire simulation period. Then get just for our analysis interval and get overall averages for the analysis window."
   ]
  },
  {
   "cell_type": "code",
   "execution_count": 12,
   "id": "f2d54ec2-b159-4712-b6d7-f27d76a690fb",
   "metadata": {},
   "outputs": [],
   "source": [
    "AnnPreDF = pd.DataFrame( 0.0, index=OAAnnIndexer, columns=ColsList, dtype=np.float32 )\n",
    "AnnEToDF = pd.DataFrame( 0.0, index=OAAnnIndexer, columns=ColsList, dtype=np.float32 )\n",
    "AnnDefDF = pd.DataFrame( 0.0, index=OAAnnIndexer, columns=ColsList, dtype=np.float32 )"
   ]
  },
  {
   "cell_type": "code",
   "execution_count": 13,
   "id": "f7a7fdfc-70fc-4dac-95a1-b719ccb97ee4",
   "metadata": {},
   "outputs": [],
   "source": [
    "CNAnnPreDF = pd.DataFrame( 0.0, index=CNAnnIndexer, columns=ColsList, dtype=np.float32 )\n",
    "CNAnnEToDF = pd.DataFrame( 0.0, index=CNAnnIndexer, columns=ColsList, dtype=np.float32 )\n",
    "CNAnnDefDF = pd.DataFrame( 0.0, index=CNAnnIndexer, columns=ColsList, dtype=np.float32 )"
   ]
  },
  {
   "cell_type": "code",
   "execution_count": 14,
   "id": "5b2a86b8-478c-486c-9b04-4f5851fbb606",
   "metadata": {},
   "outputs": [],
   "source": [
    "for cR in range(1, NumReal+1):\n",
    "    curCol = \"R%04d\" % cR\n",
    "    InFiler = os.path.normpath( os.path.join( IN_DIR1, ProjFileRoot % (BasKey, cR) ) )\n",
    "    curDF = pd.read_pickle( InFiler, compression='zip' )\n",
    "    cPreDF = curDF[[\"Precip_mm\"]].copy()\n",
    "    cPreDF.columns = [\"Pre_mm\"]\n",
    "    cEToDF = curDF[[\"ETo_mm\"]].copy()\n",
    "    cDefDF = curDF[[\"Def_mm\"]].copy()\n",
    "    curAnnPre = cPreDF.resample( 'AS' ).sum()\n",
    "    curAnnETo = cEToDF.resample( 'AS' ).sum()\n",
    "    curAnnDef = cDefDF.resample( 'AS' ).sum()\n",
    "    # set to the correct time durations\n",
    "    curCNAnnPre = curAnnPre.loc[CNStartTS:CNStopTS].copy()\n",
    "    curCNAnnETo = curAnnETo.loc[CNStartTS:CNStopTS].copy()\n",
    "    curCNAnnDef = curAnnDef.loc[CNStartTS:CNStopTS].copy()\n",
    "    # now assign to our columns in tracking DataFrames\n",
    "    AnnPreDF[curCol] = curAnnPre[\"Pre_mm\"].to_numpy(dtype=np.float32)\n",
    "    AnnEToDF[curCol] = curAnnETo[\"ETo_mm\"].to_numpy(dtype=np.float32)\n",
    "    AnnDefDF[curCol] = curAnnDef[\"Def_mm\"].to_numpy(dtype=np.float32)\n",
    "    CNAnnPreDF[curCol] = curCNAnnPre[\"Pre_mm\"].to_numpy(dtype=np.float32)\n",
    "    CNAnnEToDF[curCol] = curCNAnnETo[\"ETo_mm\"].to_numpy(dtype=np.float32)\n",
    "    CNAnnDefDF[curCol] = curCNAnnDef[\"Def_mm\"].to_numpy(dtype=np.float32)\n",
    "# end for"
   ]
  },
  {
   "cell_type": "code",
   "execution_count": 15,
   "id": "a2671d99-fad7-48c3-a8d3-7e855793d0f0",
   "metadata": {},
   "outputs": [],
   "source": [
    "AnnPreDF[\"EnsAve\"] = AnnPreDF.mean(axis=1)\n",
    "AnnEToDF[\"EnsAve\"] = AnnEToDF.mean(axis=1)\n",
    "AnnDefDF[\"EnsAve\"] = AnnDefDF.mean(axis=1)\n",
    "CNAnnPreDF[\"EnsAve\"] = CNAnnPreDF.mean(axis=1)\n",
    "CNAnnEToDF[\"EnsAve\"] = CNAnnEToDF.mean(axis=1)\n",
    "CNAnnDefDF[\"EnsAve\"] = CNAnnDefDF.mean(axis=1)\n",
    "ColsList.append( \"EnsAve\" )"
   ]
  },
  {
   "cell_type": "code",
   "execution_count": 16,
   "id": "cc1bfa57-d701-48e4-a0d6-efc09a3fd5e5",
   "metadata": {},
   "outputs": [],
   "source": [
    "AnnSummDF = pd.DataFrame( index=[BasKey], data={\"Pre_mm\" : [CNAnnPreDF[\"EnsAve\"].mean(),], \"ETo_mm\" : [CNAnnEToDF[\"EnsAve\"].mean(),], \n",
    "                                                \"Def_mm\" : [CNAnnDefDF[\"EnsAve\"].mean(),],} )"
   ]
  },
  {
   "cell_type": "markdown",
   "id": "68cc9dae-5833-4d8d-8fd2-4617e67080bf",
   "metadata": {},
   "source": [
    "Output to a spreadsheet"
   ]
  },
  {
   "cell_type": "code",
   "execution_count": 17,
   "id": "4083db5e-3a44-4fa6-b8ba-d6a7787eed39",
   "metadata": {},
   "outputs": [],
   "source": [
    "OutFiler = os.path.normpath( os.path.join( OUT_DIR, \"AnnualAverages_%s_%d-Real.xlsx\" % (BasKey, NumReal) ) )\n",
    "writer = pd.ExcelWriter( OutFiler )\n",
    "workbook  = writer.book\n",
    "format1 = workbook.add_format({'num_format': '#,##0.00'})\n",
    "cLabel = \"Summary\"\n",
    "AnnSummDF.to_excel( writer, sheet_name=cLabel, )\n",
    "# adjust columns\n",
    "writer.sheets[cLabel].set_column( 0, 0, 18 )\n",
    "for column in AnnSummDF:\n",
    "    column_width = max(AnnSummDF[column].astype(str).map(len).max()+6, len(column)+6)\n",
    "    col_idx = AnnSummDF.columns.get_loc(column)\n",
    "    writer.sheets[cLabel].set_column(col_idx+1, col_idx+1, column_width, format1)\n",
    "# end for\n",
    "cLabel = \"Pre_mm_all\"\n",
    "AnnPreDF.to_excel( writer, sheet_name=cLabel, index_label=\"DateTime\", columns=ColsList )\n",
    "# adjust columns\n",
    "writer.sheets[cLabel].set_column( 0, 0, 18 )\n",
    "for column in ColsList:\n",
    "    column_width = max(AnnPreDF[column].astype(str).map(len).max()+6, len(column)+6)\n",
    "    col_idx = AnnPreDF.columns.get_loc(column)\n",
    "    writer.sheets[cLabel].set_column(col_idx+1, col_idx+1, column_width, format1)\n",
    "# end for\n",
    "cLabel = \"ETo_mm_all\"\n",
    "AnnEToDF.to_excel( writer, sheet_name=cLabel, index_label=\"DateTime\", columns=ColsList )\n",
    "# adjust columns\n",
    "writer.sheets[cLabel].set_column( 0, 0, 18 )\n",
    "for column in ColsList:\n",
    "    column_width = max(AnnEToDF[column].astype(str).map(len).max()+6, len(column)+6)\n",
    "    col_idx = AnnEToDF.columns.get_loc(column)\n",
    "    writer.sheets[cLabel].set_column(col_idx+1, col_idx+1, column_width, format1)\n",
    "# end for\n",
    "cLabel = \"Def_mm_all\"\n",
    "AnnDefDF.to_excel( writer, sheet_name=cLabel, index_label=\"DateTime\", columns=ColsList )\n",
    "# adjust columns\n",
    "writer.sheets[cLabel].set_column( 0, 0, 18 )\n",
    "for column in ColsList:\n",
    "    column_width = max(AnnDefDF[column].astype(str).map(len).max()+6, len(column)+6)\n",
    "    col_idx = AnnDefDF.columns.get_loc(column)\n",
    "    writer.sheets[cLabel].set_column(col_idx+1, col_idx+1, column_width, format1)\n",
    "# end for\n",
    "cLabel = \"Pre_mm_CN\"\n",
    "CNAnnPreDF.to_excel( writer, sheet_name=cLabel, index_label=\"DateTime\", columns=ColsList )\n",
    "# adjust columns\n",
    "writer.sheets[cLabel].set_column( 0, 0, 18 )\n",
    "for column in ColsList:\n",
    "    column_width = max(CNAnnPreDF[column].astype(str).map(len).max()+6, len(column)+6)\n",
    "    col_idx = CNAnnPreDF.columns.get_loc(column)\n",
    "    writer.sheets[cLabel].set_column(col_idx+1, col_idx+1, column_width, format1)\n",
    "# end for\n",
    "cLabel = \"ETo_mm_CN\"\n",
    "CNAnnEToDF.to_excel( writer, sheet_name=cLabel, index_label=\"DateTime\", columns=ColsList )\n",
    "# adjust columns\n",
    "writer.sheets[cLabel].set_column( 0, 0, 18 )\n",
    "for column in ColsList:\n",
    "    column_width = max(CNAnnEToDF[column].astype(str).map(len).max()+6, len(column)+6)\n",
    "    col_idx = CNAnnEToDF.columns.get_loc(column)\n",
    "    writer.sheets[cLabel].set_column(col_idx+1, col_idx+1, column_width, format1)\n",
    "# end for\n",
    "cLabel = \"Def_mm_CN\"\n",
    "CNAnnDefDF.to_excel( writer, sheet_name=cLabel, index_label=\"DateTime\", columns=ColsList )\n",
    "# adjust columns\n",
    "writer.sheets[cLabel].set_column( 0, 0, 18 )\n",
    "for column in ColsList:\n",
    "    column_width = max(CNAnnDefDF[column].astype(str).map(len).max()+6, len(column)+6)\n",
    "    col_idx = CNAnnDefDF.columns.get_loc(column)\n",
    "    writer.sheets[cLabel].set_column(col_idx+1, col_idx+1, column_width, format1)\n",
    "# end for\n",
    "writer.close()"
   ]
  },
  {
   "cell_type": "markdown",
   "id": "8cc3ed6f-0207-4113-ac19-bc9da4cc1edd",
   "metadata": {},
   "source": [
    "## Get SPEI and SPI Counts"
   ]
  },
  {
   "cell_type": "markdown",
   "id": "5a30dc5e-3977-4eaf-8de2-9faee359fc1e",
   "metadata": {},
   "source": [
    "Get our counts for SPEI $\\le$ -1.5 and for SPI $\\ge$ 1.5"
   ]
  },
  {
   "cell_type": "code",
   "execution_count": 18,
   "id": "bc1b4225-5b47-429b-91e1-68579d75d744",
   "metadata": {},
   "outputs": [
    {
     "data": {
      "text/plain": [
       "(0.06680720126885807, 0.016666666666666666, 14.968446230453697)"
      ]
     },
     "execution_count": 18,
     "metadata": {},
     "output_type": "execute_result"
    }
   ],
   "source": [
    "F_SPEI = sstats.norm.cdf( -1.5, loc=ZMu, scale=ZStd )\n",
    "F_SPEI, 1.0/60.0, 1.0/F_SPEI"
   ]
  },
  {
   "cell_type": "code",
   "execution_count": 19,
   "id": "09377aa9-7641-40f2-ad6e-420cf927a656",
   "metadata": {},
   "outputs": [
    {
     "data": {
      "text/plain": [
       "(0.9331927987311419,\n",
       " 0.06680720126885809,\n",
       " 0.016666666666666666,\n",
       " 14.968446230453694)"
      ]
     },
     "execution_count": 19,
     "metadata": {},
     "output_type": "execute_result"
    }
   ],
   "source": [
    "F_SPI = sstats.norm.cdf( 1.5, loc=ZMu, scale=ZStd )\n",
    "F_SPI, (1.0 - F_SPI), 1.0/60.0, (1.0/(1.0-F_SPI))"
   ]
  },
  {
   "cell_type": "code",
   "execution_count": 20,
   "id": "d770a46f-efd3-4387-9dee-f8c21f2d3e3e",
   "metadata": {},
   "outputs": [],
   "source": [
    "InFiler = os.path.normpath( os.path.join( OUT_DIR, \"%s_SPEI.xlsx\" % BasKey ) )\n",
    "SpeiDF = pd.read_excel( InFiler, sheet_name=\"SPEI_3mo\", header=0, index_col=0, parse_dates=True )"
   ]
  },
  {
   "cell_type": "code",
   "execution_count": 21,
   "id": "e7f17f48-d42f-4099-8e7b-f00a4608f476",
   "metadata": {},
   "outputs": [],
   "source": [
    "InFiler = os.path.normpath( os.path.join( OUT_DIR, \"%s_SPI.xlsx\" % BasKey ) )\n",
    "SpiDF = pd.read_excel( InFiler, sheet_name=\"SPI_3mo\", header=0, index_col=0, parse_dates=True )"
   ]
  },
  {
   "cell_type": "code",
   "execution_count": 22,
   "id": "3f5a0a08-a7a5-48b0-a0c1-c2f616223999",
   "metadata": {},
   "outputs": [],
   "source": [
    "HistSPEIDF = SpeiDF[[\"SPEI (1981-2010)\"]].copy()\n",
    "L2SPEIDF = SpeiDF[[\"LOCA2 SPEI (2031-2060)\"]].copy()\n",
    "WGSPEIDF = SpeiDF[[\"WG SPEI (2031-2060)\"]].copy()"
   ]
  },
  {
   "cell_type": "code",
   "execution_count": 23,
   "id": "2efa42b2-d85d-4112-8357-def54e0a5150",
   "metadata": {},
   "outputs": [
    {
     "data": {
      "text/plain": [
       "17"
      ]
     },
     "execution_count": 23,
     "metadata": {},
     "output_type": "execute_result"
    }
   ],
   "source": [
    "HistSPEIDF = HistSPEIDF[HistSPEIDF[\"SPEI (1981-2010)\"] <= -1.5].copy()\n",
    "NumHist = len( HistSPEIDF )\n",
    "NumHist"
   ]
  },
  {
   "cell_type": "code",
   "execution_count": 24,
   "id": "e76d1b6c-94ce-4b1d-b3d3-652841d84b93",
   "metadata": {},
   "outputs": [
    {
     "data": {
      "text/html": [
       "<table border=\"1\" class=\"dataframe\">\n",
       "  <thead>\n",
       "    <tr style=\"text-align: right;\">\n",
       "      <th></th>\n",
       "      <th>SPEI (1981-2010)</th>\n",
       "    </tr>\n",
       "    <tr>\n",
       "      <th>DateTime</th>\n",
       "      <th></th>\n",
       "    </tr>\n",
       "  </thead>\n",
       "  <tbody>\n",
       "    <tr>\n",
       "      <th>1998-06-01</th>\n",
       "      <td>-1.502210</td>\n",
       "    </tr>\n",
       "    <tr>\n",
       "      <th>1998-07-01</th>\n",
       "      <td>-1.558636</td>\n",
       "    </tr>\n",
       "    <tr>\n",
       "      <th>1999-02-01</th>\n",
       "      <td>-1.564624</td>\n",
       "    </tr>\n",
       "    <tr>\n",
       "      <th>1999-10-01</th>\n",
       "      <td>-1.812954</td>\n",
       "    </tr>\n",
       "    <tr>\n",
       "      <th>1999-11-01</th>\n",
       "      <td>-1.728602</td>\n",
       "    </tr>\n",
       "    <tr>\n",
       "      <th>2000-01-01</th>\n",
       "      <td>-1.853504</td>\n",
       "    </tr>\n",
       "    <tr>\n",
       "      <th>2006-02-01</th>\n",
       "      <td>-1.623962</td>\n",
       "    </tr>\n",
       "    <tr>\n",
       "      <th>2009-01-01</th>\n",
       "      <td>-1.543675</td>\n",
       "    </tr>\n",
       "    <tr>\n",
       "      <th>2009-08-01</th>\n",
       "      <td>-1.972912</td>\n",
       "    </tr>\n",
       "    <tr>\n",
       "      <th>2010-12-01</th>\n",
       "      <td>-1.639741</td>\n",
       "    </tr>\n",
       "    <tr>\n",
       "      <th>2011-04-01</th>\n",
       "      <td>-2.128045</td>\n",
       "    </tr>\n",
       "    <tr>\n",
       "      <th>2011-05-01</th>\n",
       "      <td>-1.869871</td>\n",
       "    </tr>\n",
       "    <tr>\n",
       "      <th>2011-06-01</th>\n",
       "      <td>-1.950574</td>\n",
       "    </tr>\n",
       "    <tr>\n",
       "      <th>2011-07-01</th>\n",
       "      <td>-1.717182</td>\n",
       "    </tr>\n",
       "    <tr>\n",
       "      <th>2011-08-01</th>\n",
       "      <td>-1.764542</td>\n",
       "    </tr>\n",
       "    <tr>\n",
       "      <th>2022-06-01</th>\n",
       "      <td>-1.573667</td>\n",
       "    </tr>\n",
       "    <tr>\n",
       "      <th>2022-07-01</th>\n",
       "      <td>-1.883408</td>\n",
       "    </tr>\n",
       "  </tbody>\n",
       "</table>"
      ],
      "text/plain": [
       "<IPython.core.display.HTML object>"
      ]
     },
     "metadata": {},
     "output_type": "display_data"
    }
   ],
   "source": [
    "display( HTML( HistSPEIDF.to_html() ) )"
   ]
  },
  {
   "cell_type": "code",
   "execution_count": 25,
   "id": "20d7e24b-5ac5-45ea-8db1-15e66d6d63b0",
   "metadata": {},
   "outputs": [
    {
     "data": {
      "text/plain": [
       "-2.128045320510864"
      ]
     },
     "execution_count": 25,
     "metadata": {},
     "output_type": "execute_result"
    }
   ],
   "source": [
    "HistSPEIDF[\"SPEI (1981-2010)\"].min()"
   ]
  },
  {
   "cell_type": "code",
   "execution_count": 26,
   "id": "ebde906e-de7e-407b-9137-d03de7f87704",
   "metadata": {},
   "outputs": [
    {
     "data": {
      "text/plain": [
       "4"
      ]
     },
     "execution_count": 26,
     "metadata": {},
     "output_type": "execute_result"
    }
   ],
   "source": [
    "L2SPEIDF = L2SPEIDF[L2SPEIDF[\"LOCA2 SPEI (2031-2060)\"] <= -1.5].copy()\n",
    "NumL2 = len( L2SPEIDF )\n",
    "NumL2"
   ]
  },
  {
   "cell_type": "code",
   "execution_count": 27,
   "id": "6b129455-efe1-40cd-a3da-471c993b55a2",
   "metadata": {},
   "outputs": [
    {
     "data": {
      "text/html": [
       "<table border=\"1\" class=\"dataframe\">\n",
       "  <thead>\n",
       "    <tr style=\"text-align: right;\">\n",
       "      <th></th>\n",
       "      <th>LOCA2 SPEI (2031-2060)</th>\n",
       "    </tr>\n",
       "    <tr>\n",
       "      <th>DateTime</th>\n",
       "      <th></th>\n",
       "    </tr>\n",
       "  </thead>\n",
       "  <tbody>\n",
       "    <tr>\n",
       "      <th>2000-01-01</th>\n",
       "      <td>-1.628055</td>\n",
       "    </tr>\n",
       "    <tr>\n",
       "      <th>2011-04-01</th>\n",
       "      <td>-1.916644</td>\n",
       "    </tr>\n",
       "    <tr>\n",
       "      <th>2011-05-01</th>\n",
       "      <td>-1.796289</td>\n",
       "    </tr>\n",
       "    <tr>\n",
       "      <th>2011-06-01</th>\n",
       "      <td>-1.722161</td>\n",
       "    </tr>\n",
       "  </tbody>\n",
       "</table>"
      ],
      "text/plain": [
       "<IPython.core.display.HTML object>"
      ]
     },
     "metadata": {},
     "output_type": "display_data"
    }
   ],
   "source": [
    "display( HTML( L2SPEIDF.to_html() ) )"
   ]
  },
  {
   "cell_type": "code",
   "execution_count": 28,
   "id": "c303ac5e-3a06-4e1c-b596-444fc5a4953b",
   "metadata": {},
   "outputs": [
    {
     "data": {
      "text/plain": [
       "-1.91664445400238"
      ]
     },
     "execution_count": 28,
     "metadata": {},
     "output_type": "execute_result"
    }
   ],
   "source": [
    "L2SPEIDF[\"LOCA2 SPEI (2031-2060)\"].min()"
   ]
  },
  {
   "cell_type": "code",
   "execution_count": 29,
   "id": "998879b6-4571-4d14-904b-8b8a7080c67f",
   "metadata": {},
   "outputs": [
    {
     "data": {
      "text/plain": [
       "-1.350380778312683"
      ]
     },
     "execution_count": 29,
     "metadata": {},
     "output_type": "execute_result"
    }
   ],
   "source": [
    "WGSPEIDF[\"WG SPEI (2031-2060)\"].min()"
   ]
  },
  {
   "cell_type": "code",
   "execution_count": 30,
   "id": "2422c6e8-3296-434c-a675-b68a9f4bfb04",
   "metadata": {},
   "outputs": [
    {
     "data": {
      "text/plain": [
       "0"
      ]
     },
     "execution_count": 30,
     "metadata": {},
     "output_type": "execute_result"
    }
   ],
   "source": [
    "WGSPEIDF = WGSPEIDF[WGSPEIDF[\"WG SPEI (2031-2060)\"] <= -1.5].copy()\n",
    "NumWG = len( WGSPEIDF )\n",
    "NumWG"
   ]
  },
  {
   "cell_type": "code",
   "execution_count": 31,
   "id": "c49863ce-e983-492a-a8bf-0dd4c4cd0fdb",
   "metadata": {},
   "outputs": [
    {
     "data": {
      "text/html": [
       "<table border=\"1\" class=\"dataframe\">\n",
       "  <thead>\n",
       "    <tr style=\"text-align: right;\">\n",
       "      <th></th>\n",
       "      <th>WG SPEI (2031-2060)</th>\n",
       "    </tr>\n",
       "    <tr>\n",
       "      <th>DateTime</th>\n",
       "      <th></th>\n",
       "    </tr>\n",
       "  </thead>\n",
       "  <tbody>\n",
       "  </tbody>\n",
       "</table>"
      ],
      "text/plain": [
       "<IPython.core.display.HTML object>"
      ]
     },
     "metadata": {},
     "output_type": "display_data"
    }
   ],
   "source": [
    "display( HTML( WGSPEIDF.to_html() ) )"
   ]
  },
  {
   "cell_type": "markdown",
   "id": "e867e120-9e88-4cbb-b626-b993c6c868e9",
   "metadata": {},
   "source": [
    "SPI"
   ]
  },
  {
   "cell_type": "code",
   "execution_count": 32,
   "id": "822bd0aa-3b7e-48a0-936a-49b84b469279",
   "metadata": {},
   "outputs": [],
   "source": [
    "HistSPIDF = SpiDF[[\"SPI (1981-2010)\"]].copy()\n",
    "L2SPIDF = SpiDF[[\"LOCA2 SPI (2031-2060)\"]].copy()\n",
    "WGSPIDF = SpiDF[[\"WG SPI (2031-2060)\"]].copy()"
   ]
  },
  {
   "cell_type": "code",
   "execution_count": 33,
   "id": "eae815bb-0ba9-401d-a262-bc74bfb25f50",
   "metadata": {},
   "outputs": [
    {
     "data": {
      "text/plain": [
       "17"
      ]
     },
     "execution_count": 33,
     "metadata": {},
     "output_type": "execute_result"
    }
   ],
   "source": [
    "HistSPIDF = HistSPIDF[HistSPIDF[\"SPI (1981-2010)\"] >= 1.5].copy()\n",
    "NumHistSPI = len( HistSPIDF )\n",
    "NumHistSPI"
   ]
  },
  {
   "cell_type": "code",
   "execution_count": 34,
   "id": "1c0cbd65-b786-4f4f-ad54-db9298dc787c",
   "metadata": {},
   "outputs": [
    {
     "data": {
      "text/html": [
       "<table border=\"1\" class=\"dataframe\">\n",
       "  <thead>\n",
       "    <tr style=\"text-align: right;\">\n",
       "      <th></th>\n",
       "      <th>SPI (1981-2010)</th>\n",
       "    </tr>\n",
       "    <tr>\n",
       "      <th>DateTime</th>\n",
       "      <th></th>\n",
       "    </tr>\n",
       "  </thead>\n",
       "  <tbody>\n",
       "    <tr>\n",
       "      <th>1997-06-01</th>\n",
       "      <td>1.583174</td>\n",
       "    </tr>\n",
       "    <tr>\n",
       "      <th>1998-10-01</th>\n",
       "      <td>2.276784</td>\n",
       "    </tr>\n",
       "    <tr>\n",
       "      <th>2000-11-01</th>\n",
       "      <td>1.924180</td>\n",
       "    </tr>\n",
       "    <tr>\n",
       "      <th>2000-12-01</th>\n",
       "      <td>1.692931</td>\n",
       "    </tr>\n",
       "    <tr>\n",
       "      <th>2001-01-01</th>\n",
       "      <td>1.633888</td>\n",
       "    </tr>\n",
       "    <tr>\n",
       "      <th>2002-09-01</th>\n",
       "      <td>1.526533</td>\n",
       "    </tr>\n",
       "    <tr>\n",
       "      <th>2004-04-01</th>\n",
       "      <td>1.803869</td>\n",
       "    </tr>\n",
       "    <tr>\n",
       "      <th>2007-05-01</th>\n",
       "      <td>1.860988</td>\n",
       "    </tr>\n",
       "    <tr>\n",
       "      <th>2007-06-01</th>\n",
       "      <td>1.521175</td>\n",
       "    </tr>\n",
       "    <tr>\n",
       "      <th>2007-07-01</th>\n",
       "      <td>2.424854</td>\n",
       "    </tr>\n",
       "    <tr>\n",
       "      <th>2007-08-01</th>\n",
       "      <td>1.908310</td>\n",
       "    </tr>\n",
       "    <tr>\n",
       "      <th>2015-05-01</th>\n",
       "      <td>2.333605</td>\n",
       "    </tr>\n",
       "    <tr>\n",
       "      <th>2015-06-01</th>\n",
       "      <td>2.105268</td>\n",
       "    </tr>\n",
       "    <tr>\n",
       "      <th>2015-07-01</th>\n",
       "      <td>1.712387</td>\n",
       "    </tr>\n",
       "    <tr>\n",
       "      <th>2018-09-01</th>\n",
       "      <td>1.791628</td>\n",
       "    </tr>\n",
       "    <tr>\n",
       "      <th>2018-10-01</th>\n",
       "      <td>3.069138</td>\n",
       "    </tr>\n",
       "    <tr>\n",
       "      <th>2018-11-01</th>\n",
       "      <td>2.912672</td>\n",
       "    </tr>\n",
       "  </tbody>\n",
       "</table>"
      ],
      "text/plain": [
       "<IPython.core.display.HTML object>"
      ]
     },
     "metadata": {},
     "output_type": "display_data"
    }
   ],
   "source": [
    "display( HTML( HistSPIDF.to_html() ) )"
   ]
  },
  {
   "cell_type": "code",
   "execution_count": 35,
   "id": "fec88606-6529-4f2f-92fd-61711d9c66c0",
   "metadata": {},
   "outputs": [
    {
     "data": {
      "text/plain": [
       "3.069138288497925"
      ]
     },
     "execution_count": 35,
     "metadata": {},
     "output_type": "execute_result"
    }
   ],
   "source": [
    "HistSPIDF[\"SPI (1981-2010)\"].max()"
   ]
  },
  {
   "cell_type": "code",
   "execution_count": 36,
   "id": "784b194e-0f1e-4263-9e51-9e80dfeaab89",
   "metadata": {},
   "outputs": [
    {
     "data": {
      "text/plain": [
       "37"
      ]
     },
     "execution_count": 36,
     "metadata": {},
     "output_type": "execute_result"
    }
   ],
   "source": [
    "L2SPIDF = L2SPIDF[L2SPIDF[\"LOCA2 SPI (2031-2060)\"] >= 1.5].copy()\n",
    "NumL2SPI = len( L2SPIDF )\n",
    "NumL2SPI"
   ]
  },
  {
   "cell_type": "code",
   "execution_count": 37,
   "id": "2bd15730-24e0-4294-a30f-b14b64da1893",
   "metadata": {},
   "outputs": [
    {
     "data": {
      "text/html": [
       "<table border=\"1\" class=\"dataframe\">\n",
       "  <thead>\n",
       "    <tr style=\"text-align: right;\">\n",
       "      <th></th>\n",
       "      <th>LOCA2 SPI (2031-2060)</th>\n",
       "    </tr>\n",
       "    <tr>\n",
       "      <th>DateTime</th>\n",
       "      <th></th>\n",
       "    </tr>\n",
       "  </thead>\n",
       "  <tbody>\n",
       "    <tr>\n",
       "      <th>1994-03-01</th>\n",
       "      <td>1.592291</td>\n",
       "    </tr>\n",
       "    <tr>\n",
       "      <th>1997-04-01</th>\n",
       "      <td>1.782950</td>\n",
       "    </tr>\n",
       "    <tr>\n",
       "      <th>1997-06-01</th>\n",
       "      <td>2.220492</td>\n",
       "    </tr>\n",
       "    <tr>\n",
       "      <th>1998-08-01</th>\n",
       "      <td>1.761875</td>\n",
       "    </tr>\n",
       "    <tr>\n",
       "      <th>1998-09-01</th>\n",
       "      <td>1.545714</td>\n",
       "    </tr>\n",
       "    <tr>\n",
       "      <th>1998-10-01</th>\n",
       "      <td>2.320108</td>\n",
       "    </tr>\n",
       "    <tr>\n",
       "      <th>2000-11-01</th>\n",
       "      <td>1.934566</td>\n",
       "    </tr>\n",
       "    <tr>\n",
       "      <th>2000-12-01</th>\n",
       "      <td>2.780873</td>\n",
       "    </tr>\n",
       "    <tr>\n",
       "      <th>2001-01-01</th>\n",
       "      <td>2.249698</td>\n",
       "    </tr>\n",
       "    <tr>\n",
       "      <th>2002-01-01</th>\n",
       "      <td>1.510157</td>\n",
       "    </tr>\n",
       "    <tr>\n",
       "      <th>2002-07-01</th>\n",
       "      <td>1.800492</td>\n",
       "    </tr>\n",
       "    <tr>\n",
       "      <th>2002-08-01</th>\n",
       "      <td>1.778564</td>\n",
       "    </tr>\n",
       "    <tr>\n",
       "      <th>2002-09-01</th>\n",
       "      <td>1.782089</td>\n",
       "    </tr>\n",
       "    <tr>\n",
       "      <th>2002-12-01</th>\n",
       "      <td>1.502389</td>\n",
       "    </tr>\n",
       "    <tr>\n",
       "      <th>2004-03-01</th>\n",
       "      <td>1.676753</td>\n",
       "    </tr>\n",
       "    <tr>\n",
       "      <th>2004-04-01</th>\n",
       "      <td>2.611041</td>\n",
       "    </tr>\n",
       "    <tr>\n",
       "      <th>2004-06-01</th>\n",
       "      <td>1.984647</td>\n",
       "    </tr>\n",
       "    <tr>\n",
       "      <th>2005-01-01</th>\n",
       "      <td>1.958462</td>\n",
       "    </tr>\n",
       "    <tr>\n",
       "      <th>2007-03-01</th>\n",
       "      <td>1.554206</td>\n",
       "    </tr>\n",
       "    <tr>\n",
       "      <th>2007-05-01</th>\n",
       "      <td>2.393151</td>\n",
       "    </tr>\n",
       "    <tr>\n",
       "      <th>2007-06-01</th>\n",
       "      <td>2.132446</td>\n",
       "    </tr>\n",
       "    <tr>\n",
       "      <th>2007-07-01</th>\n",
       "      <td>2.777323</td>\n",
       "    </tr>\n",
       "    <tr>\n",
       "      <th>2007-08-01</th>\n",
       "      <td>2.233548</td>\n",
       "    </tr>\n",
       "    <tr>\n",
       "      <th>2007-09-01</th>\n",
       "      <td>1.730784</td>\n",
       "    </tr>\n",
       "    <tr>\n",
       "      <th>2010-02-01</th>\n",
       "      <td>1.734369</td>\n",
       "    </tr>\n",
       "    <tr>\n",
       "      <th>2010-03-01</th>\n",
       "      <td>1.816220</td>\n",
       "    </tr>\n",
       "    <tr>\n",
       "      <th>2010-04-01</th>\n",
       "      <td>1.915225</td>\n",
       "    </tr>\n",
       "    <tr>\n",
       "      <th>2015-05-01</th>\n",
       "      <td>2.992998</td>\n",
       "    </tr>\n",
       "    <tr>\n",
       "      <th>2015-06-01</th>\n",
       "      <td>2.970416</td>\n",
       "    </tr>\n",
       "    <tr>\n",
       "      <th>2015-07-01</th>\n",
       "      <td>2.030599</td>\n",
       "    </tr>\n",
       "    <tr>\n",
       "      <th>2015-12-01</th>\n",
       "      <td>1.971898</td>\n",
       "    </tr>\n",
       "    <tr>\n",
       "      <th>2016-05-01</th>\n",
       "      <td>1.845661</td>\n",
       "    </tr>\n",
       "    <tr>\n",
       "      <th>2017-02-01</th>\n",
       "      <td>1.581399</td>\n",
       "    </tr>\n",
       "    <tr>\n",
       "      <th>2018-09-01</th>\n",
       "      <td>2.153730</td>\n",
       "    </tr>\n",
       "    <tr>\n",
       "      <th>2018-10-01</th>\n",
       "      <td>3.169418</td>\n",
       "    </tr>\n",
       "    <tr>\n",
       "      <th>2018-11-01</th>\n",
       "      <td>2.958369</td>\n",
       "    </tr>\n",
       "    <tr>\n",
       "      <th>2018-12-01</th>\n",
       "      <td>2.368139</td>\n",
       "    </tr>\n",
       "  </tbody>\n",
       "</table>"
      ],
      "text/plain": [
       "<IPython.core.display.HTML object>"
      ]
     },
     "metadata": {},
     "output_type": "display_data"
    }
   ],
   "source": [
    "display( HTML( L2SPIDF.to_html() ) )"
   ]
  },
  {
   "cell_type": "code",
   "execution_count": 38,
   "id": "ae6d6cb6-5aae-4690-8602-61192b942124",
   "metadata": {},
   "outputs": [
    {
     "data": {
      "text/plain": [
       "3.169417858123779"
      ]
     },
     "execution_count": 38,
     "metadata": {},
     "output_type": "execute_result"
    }
   ],
   "source": [
    "L2SPIDF[\"LOCA2 SPI (2031-2060)\"].max()"
   ]
  },
  {
   "cell_type": "code",
   "execution_count": 39,
   "id": "44058602-4ad6-4761-bd3b-8035d9ac815c",
   "metadata": {},
   "outputs": [
    {
     "data": {
      "text/plain": [
       "41"
      ]
     },
     "execution_count": 39,
     "metadata": {},
     "output_type": "execute_result"
    }
   ],
   "source": [
    "WGSPIDF = WGSPIDF[WGSPIDF[\"WG SPI (2031-2060)\"] >= 1.5].copy()\n",
    "NumWGSPI = len( WGSPIDF )\n",
    "NumWGSPI"
   ]
  },
  {
   "cell_type": "code",
   "execution_count": 40,
   "id": "5a79d7f4-c5de-4c77-a52e-4610d5701d59",
   "metadata": {},
   "outputs": [
    {
     "data": {
      "text/html": [
       "<table border=\"1\" class=\"dataframe\">\n",
       "  <thead>\n",
       "    <tr style=\"text-align: right;\">\n",
       "      <th></th>\n",
       "      <th>WG SPI (2031-2060)</th>\n",
       "    </tr>\n",
       "    <tr>\n",
       "      <th>DateTime</th>\n",
       "      <th></th>\n",
       "    </tr>\n",
       "  </thead>\n",
       "  <tbody>\n",
       "    <tr>\n",
       "      <th>1994-12-01</th>\n",
       "      <td>2.257829</td>\n",
       "    </tr>\n",
       "    <tr>\n",
       "      <th>1996-11-01</th>\n",
       "      <td>1.634444</td>\n",
       "    </tr>\n",
       "    <tr>\n",
       "      <th>1996-12-01</th>\n",
       "      <td>1.930183</td>\n",
       "    </tr>\n",
       "    <tr>\n",
       "      <th>1997-06-01</th>\n",
       "      <td>2.047085</td>\n",
       "    </tr>\n",
       "    <tr>\n",
       "      <th>1997-07-01</th>\n",
       "      <td>1.532877</td>\n",
       "    </tr>\n",
       "    <tr>\n",
       "      <th>1998-08-01</th>\n",
       "      <td>1.817798</td>\n",
       "    </tr>\n",
       "    <tr>\n",
       "      <th>1998-09-01</th>\n",
       "      <td>2.436873</td>\n",
       "    </tr>\n",
       "    <tr>\n",
       "      <th>1998-10-01</th>\n",
       "      <td>3.850428</td>\n",
       "    </tr>\n",
       "    <tr>\n",
       "      <th>1998-12-01</th>\n",
       "      <td>2.353640</td>\n",
       "    </tr>\n",
       "    <tr>\n",
       "      <th>2000-11-01</th>\n",
       "      <td>3.501423</td>\n",
       "    </tr>\n",
       "    <tr>\n",
       "      <th>2000-12-01</th>\n",
       "      <td>4.544080</td>\n",
       "    </tr>\n",
       "    <tr>\n",
       "      <th>2001-01-01</th>\n",
       "      <td>1.581866</td>\n",
       "    </tr>\n",
       "    <tr>\n",
       "      <th>2001-11-01</th>\n",
       "      <td>1.667754</td>\n",
       "    </tr>\n",
       "    <tr>\n",
       "      <th>2001-12-01</th>\n",
       "      <td>2.633844</td>\n",
       "    </tr>\n",
       "    <tr>\n",
       "      <th>2002-07-01</th>\n",
       "      <td>2.033727</td>\n",
       "    </tr>\n",
       "    <tr>\n",
       "      <th>2002-08-01</th>\n",
       "      <td>1.847838</td>\n",
       "    </tr>\n",
       "    <tr>\n",
       "      <th>2002-09-01</th>\n",
       "      <td>2.894930</td>\n",
       "    </tr>\n",
       "    <tr>\n",
       "      <th>2002-10-01</th>\n",
       "      <td>1.911278</td>\n",
       "    </tr>\n",
       "    <tr>\n",
       "      <th>2002-11-01</th>\n",
       "      <td>2.395377</td>\n",
       "    </tr>\n",
       "    <tr>\n",
       "      <th>2002-12-01</th>\n",
       "      <td>2.722746</td>\n",
       "    </tr>\n",
       "    <tr>\n",
       "      <th>2004-04-01</th>\n",
       "      <td>1.761512</td>\n",
       "    </tr>\n",
       "    <tr>\n",
       "      <th>2004-06-01</th>\n",
       "      <td>1.792346</td>\n",
       "    </tr>\n",
       "    <tr>\n",
       "      <th>2004-11-01</th>\n",
       "      <td>1.678325</td>\n",
       "    </tr>\n",
       "    <tr>\n",
       "      <th>2004-12-01</th>\n",
       "      <td>2.320191</td>\n",
       "    </tr>\n",
       "    <tr>\n",
       "      <th>2007-05-01</th>\n",
       "      <td>2.274477</td>\n",
       "    </tr>\n",
       "    <tr>\n",
       "      <th>2007-06-01</th>\n",
       "      <td>1.952120</td>\n",
       "    </tr>\n",
       "    <tr>\n",
       "      <th>2007-07-01</th>\n",
       "      <td>3.430186</td>\n",
       "    </tr>\n",
       "    <tr>\n",
       "      <th>2007-08-01</th>\n",
       "      <td>2.665381</td>\n",
       "    </tr>\n",
       "    <tr>\n",
       "      <th>2007-09-01</th>\n",
       "      <td>2.795555</td>\n",
       "    </tr>\n",
       "    <tr>\n",
       "      <th>2011-12-01</th>\n",
       "      <td>1.779219</td>\n",
       "    </tr>\n",
       "    <tr>\n",
       "      <th>2013-12-01</th>\n",
       "      <td>1.587160</td>\n",
       "    </tr>\n",
       "    <tr>\n",
       "      <th>2015-05-01</th>\n",
       "      <td>2.830471</td>\n",
       "    </tr>\n",
       "    <tr>\n",
       "      <th>2015-06-01</th>\n",
       "      <td>2.850448</td>\n",
       "    </tr>\n",
       "    <tr>\n",
       "      <th>2015-07-01</th>\n",
       "      <td>2.363247</td>\n",
       "    </tr>\n",
       "    <tr>\n",
       "      <th>2015-11-01</th>\n",
       "      <td>1.661050</td>\n",
       "    </tr>\n",
       "    <tr>\n",
       "      <th>2015-12-01</th>\n",
       "      <td>3.391476</td>\n",
       "    </tr>\n",
       "    <tr>\n",
       "      <th>2016-05-01</th>\n",
       "      <td>1.763244</td>\n",
       "    </tr>\n",
       "    <tr>\n",
       "      <th>2018-09-01</th>\n",
       "      <td>3.614122</td>\n",
       "    </tr>\n",
       "    <tr>\n",
       "      <th>2018-10-01</th>\n",
       "      <td>5.330846</td>\n",
       "    </tr>\n",
       "    <tr>\n",
       "      <th>2018-11-01</th>\n",
       "      <td>5.206841</td>\n",
       "    </tr>\n",
       "    <tr>\n",
       "      <th>2018-12-01</th>\n",
       "      <td>3.955914</td>\n",
       "    </tr>\n",
       "  </tbody>\n",
       "</table>"
      ],
      "text/plain": [
       "<IPython.core.display.HTML object>"
      ]
     },
     "metadata": {},
     "output_type": "display_data"
    }
   ],
   "source": [
    "display( HTML( WGSPIDF.to_html() ) )"
   ]
  },
  {
   "cell_type": "code",
   "execution_count": 41,
   "id": "ea0db9da-9d24-40f8-9b28-3c4589a900ed",
   "metadata": {},
   "outputs": [
    {
     "data": {
      "text/plain": [
       "5.330846309661865"
      ]
     },
     "execution_count": 41,
     "metadata": {},
     "output_type": "execute_result"
    }
   ],
   "source": [
    "WGSPIDF[\"WG SPI (2031-2060)\"].max()"
   ]
  },
  {
   "cell_type": "markdown",
   "id": "100f7997-9549-49d9-8d89-0eec65e67d21",
   "metadata": {},
   "source": [
    "## Box and Whisker Plots of Annual Totals"
   ]
  },
  {
   "cell_type": "markdown",
   "id": "9f89d3ce-386b-41df-9e90-b505467d3cee",
   "metadata": {},
   "source": [
    "Make Box and Whisker Plot of the annual total precipitation depth collections."
   ]
  },
  {
   "cell_type": "code",
   "execution_count": 42,
   "id": "79d3e513-10f0-484a-bdb4-0d7e243fb2f0",
   "metadata": {},
   "outputs": [],
   "source": [
    "modColsLister = deepcopy( ColsList )\n",
    "modColsLister.remove( \"EnsAve\" )"
   ]
  },
  {
   "cell_type": "code",
   "execution_count": 43,
   "id": "eb9cdf39-a054-49d9-82e5-643295b39377",
   "metadata": {},
   "outputs": [],
   "source": [
    "WGAnnValuesList = list()"
   ]
  },
  {
   "cell_type": "code",
   "execution_count": 44,
   "id": "f0e43c4b-e3de-463f-9273-7aa663e7dc96",
   "metadata": {},
   "outputs": [],
   "source": [
    "for tCol in modColsLister:\n",
    "    WGAnnValuesList.append( CNAnnPreDF[tCol].to_numpy(dtype=np.float32).flatten() )\n",
    "# end for"
   ]
  },
  {
   "cell_type": "code",
   "execution_count": 45,
   "id": "207574c7-13e4-4faf-9f40-cfdf86a99cd8",
   "metadata": {},
   "outputs": [
    {
     "data": {
      "text/plain": [
       "30000"
      ]
     },
     "execution_count": 45,
     "metadata": {},
     "output_type": "execute_result"
    }
   ],
   "source": [
    "npWGAnnVals = np.concatenate( WGAnnValuesList )\n",
    "NumWG = len( npWGAnnVals )\n",
    "NumWG"
   ]
  },
  {
   "cell_type": "code",
   "execution_count": 46,
   "id": "fc7e21b7-a3be-4879-aa56-590d8d3d513f",
   "metadata": {},
   "outputs": [
    {
     "data": {
      "text/plain": [
       "(761.1406, 779.48267, 178.73982)"
      ]
     },
     "execution_count": 46,
     "metadata": {},
     "output_type": "execute_result"
    }
   ],
   "source": [
    "np.median( npWGAnnVals ), npWGAnnVals.mean(), npWGAnnVals.std()"
   ]
  },
  {
   "cell_type": "code",
   "execution_count": 47,
   "id": "20cdcac6-3974-4c16-8db8-0e878261f017",
   "metadata": {},
   "outputs": [],
   "source": [
    "WGLabelsList = [ \"WG 2031-2060\" for x in range(NumWG) ]"
   ]
  },
  {
   "cell_type": "code",
   "execution_count": 48,
   "id": "ed00b18d-d865-4f71-a274-ee7adb647219",
   "metadata": {},
   "outputs": [],
   "source": [
    "InFiler = os.path.normpath( os.path.join( IN_DIR2, \"%s_MonTS_2031to2060.xlsx\" % BasKey ) )\n",
    "MonTSDF = pd.read_excel( InFiler, sheet_name=\"Pre_mm\", index_col=0, header=0 )"
   ]
  },
  {
   "cell_type": "code",
   "execution_count": 49,
   "id": "f240beff-6097-4a83-860a-cd1c4664694e",
   "metadata": {},
   "outputs": [
    {
     "data": {
      "text/html": [
       "<table border=\"1\" class=\"dataframe\">\n",
       "  <thead>\n",
       "    <tr style=\"text-align: right;\">\n",
       "      <th></th>\n",
       "      <th>Year</th>\n",
       "      <th>Month</th>\n",
       "      <th>Ensemble Average</th>\n",
       "      <th>M51L</th>\n",
       "      <th>M51H</th>\n",
       "      <th>M52L</th>\n",
       "      <th>M52H</th>\n",
       "      <th>M53L</th>\n",
       "      <th>M53H</th>\n",
       "      <th>M55L</th>\n",
       "      <th>M55H</th>\n",
       "      <th>M56L</th>\n",
       "      <th>M56H</th>\n",
       "      <th>M57L</th>\n",
       "      <th>M57H</th>\n",
       "      <th>M58L</th>\n",
       "      <th>M58H</th>\n",
       "      <th>M59L</th>\n",
       "      <th>M59H</th>\n",
       "      <th>M60L</th>\n",
       "      <th>M60H</th>\n",
       "      <th>M61L</th>\n",
       "      <th>M61H</th>\n",
       "      <th>M62L</th>\n",
       "      <th>M62H</th>\n",
       "      <th>M63L</th>\n",
       "      <th>M63H</th>\n",
       "      <th>M64L</th>\n",
       "      <th>M64H</th>\n",
       "      <th>M65L</th>\n",
       "      <th>M65H</th>\n",
       "      <th>M66L</th>\n",
       "      <th>M66H</th>\n",
       "      <th>M67L</th>\n",
       "      <th>M67H</th>\n",
       "      <th>M68L</th>\n",
       "      <th>M68H</th>\n",
       "      <th>M69L</th>\n",
       "      <th>M69H</th>\n",
       "      <th>M70L</th>\n",
       "      <th>M70H</th>\n",
       "      <th>M71L</th>\n",
       "      <th>M71H</th>\n",
       "      <th>M72L</th>\n",
       "      <th>M72H</th>\n",
       "      <th>M73L</th>\n",
       "      <th>M73H</th>\n",
       "      <th>M74L</th>\n",
       "      <th>M74H</th>\n",
       "      <th>Check_EnsAve</th>\n",
       "    </tr>\n",
       "    <tr>\n",
       "      <th>YrMo</th>\n",
       "      <th></th>\n",
       "      <th></th>\n",
       "      <th></th>\n",
       "      <th></th>\n",
       "      <th></th>\n",
       "      <th></th>\n",
       "      <th></th>\n",
       "      <th></th>\n",
       "      <th></th>\n",
       "      <th></th>\n",
       "      <th></th>\n",
       "      <th></th>\n",
       "      <th></th>\n",
       "      <th></th>\n",
       "      <th></th>\n",
       "      <th></th>\n",
       "      <th></th>\n",
       "      <th></th>\n",
       "      <th></th>\n",
       "      <th></th>\n",
       "      <th></th>\n",
       "      <th></th>\n",
       "      <th></th>\n",
       "      <th></th>\n",
       "      <th></th>\n",
       "      <th></th>\n",
       "      <th></th>\n",
       "      <th></th>\n",
       "      <th></th>\n",
       "      <th></th>\n",
       "      <th></th>\n",
       "      <th></th>\n",
       "      <th></th>\n",
       "      <th></th>\n",
       "      <th></th>\n",
       "      <th></th>\n",
       "      <th></th>\n",
       "      <th></th>\n",
       "      <th></th>\n",
       "      <th></th>\n",
       "      <th></th>\n",
       "      <th></th>\n",
       "      <th></th>\n",
       "      <th></th>\n",
       "      <th></th>\n",
       "      <th></th>\n",
       "      <th></th>\n",
       "      <th></th>\n",
       "      <th></th>\n",
       "      <th></th>\n",
       "    </tr>\n",
       "  </thead>\n",
       "  <tbody>\n",
       "    <tr>\n",
       "      <th>203101</th>\n",
       "      <td>2031</td>\n",
       "      <td>1</td>\n",
       "      <td>39.350197</td>\n",
       "      <td>64.143326</td>\n",
       "      <td>4.254862</td>\n",
       "      <td>44.746910</td>\n",
       "      <td>49.281769</td>\n",
       "      <td>12.538684</td>\n",
       "      <td>43.513615</td>\n",
       "      <td>8.295653</td>\n",
       "      <td>5.300393</td>\n",
       "      <td>11.736695</td>\n",
       "      <td>42.461754</td>\n",
       "      <td>19.613369</td>\n",
       "      <td>33.174145</td>\n",
       "      <td>83.761597</td>\n",
       "      <td>47.386246</td>\n",
       "      <td>32.030605</td>\n",
       "      <td>57.547897</td>\n",
       "      <td>26.979332</td>\n",
       "      <td>93.699059</td>\n",
       "      <td>22.774727</td>\n",
       "      <td>45.102940</td>\n",
       "      <td>42.993916</td>\n",
       "      <td>17.963211</td>\n",
       "      <td>30.903393</td>\n",
       "      <td>16.851549</td>\n",
       "      <td>0.001730</td>\n",
       "      <td>36.129158</td>\n",
       "      <td>22.940765</td>\n",
       "      <td>10.532225</td>\n",
       "      <td>72.651497</td>\n",
       "      <td>40.769814</td>\n",
       "      <td>65.000420</td>\n",
       "      <td>127.023895</td>\n",
       "      <td>6.975895</td>\n",
       "      <td>32.016327</td>\n",
       "      <td>65.746239</td>\n",
       "      <td>128.521317</td>\n",
       "      <td>9.331523</td>\n",
       "      <td>4.839324</td>\n",
       "      <td>64.632004</td>\n",
       "      <td>9.797279</td>\n",
       "      <td>88.456314</td>\n",
       "      <td>110.385010</td>\n",
       "      <td>22.279642</td>\n",
       "      <td>4.366309</td>\n",
       "      <td>22.095507</td>\n",
       "      <td>8.561235</td>\n",
       "      <td>39.350197</td>\n",
       "    </tr>\n",
       "    <tr>\n",
       "      <th>203102</th>\n",
       "      <td>2031</td>\n",
       "      <td>2</td>\n",
       "      <td>33.719166</td>\n",
       "      <td>62.837074</td>\n",
       "      <td>31.265987</td>\n",
       "      <td>23.354742</td>\n",
       "      <td>14.321198</td>\n",
       "      <td>71.431938</td>\n",
       "      <td>13.961568</td>\n",
       "      <td>82.255951</td>\n",
       "      <td>43.796089</td>\n",
       "      <td>34.618855</td>\n",
       "      <td>27.241526</td>\n",
       "      <td>5.336610</td>\n",
       "      <td>31.747261</td>\n",
       "      <td>69.502151</td>\n",
       "      <td>10.731034</td>\n",
       "      <td>62.742115</td>\n",
       "      <td>12.471288</td>\n",
       "      <td>34.352821</td>\n",
       "      <td>71.791893</td>\n",
       "      <td>76.379303</td>\n",
       "      <td>9.154173</td>\n",
       "      <td>22.251062</td>\n",
       "      <td>75.057121</td>\n",
       "      <td>16.063828</td>\n",
       "      <td>11.279823</td>\n",
       "      <td>27.037615</td>\n",
       "      <td>11.194924</td>\n",
       "      <td>39.016426</td>\n",
       "      <td>37.355206</td>\n",
       "      <td>58.485977</td>\n",
       "      <td>16.914827</td>\n",
       "      <td>40.398167</td>\n",
       "      <td>29.434898</td>\n",
       "      <td>25.424089</td>\n",
       "      <td>0.585915</td>\n",
       "      <td>92.873322</td>\n",
       "      <td>11.649282</td>\n",
       "      <td>11.173244</td>\n",
       "      <td>0.139112</td>\n",
       "      <td>11.986717</td>\n",
       "      <td>25.794218</td>\n",
       "      <td>17.751553</td>\n",
       "      <td>42.215607</td>\n",
       "      <td>1.968476</td>\n",
       "      <td>53.989723</td>\n",
       "      <td>28.744926</td>\n",
       "      <td>53.001938</td>\n",
       "      <td>33.719166</td>\n",
       "    </tr>\n",
       "    <tr>\n",
       "      <th>203103</th>\n",
       "      <td>2031</td>\n",
       "      <td>3</td>\n",
       "      <td>46.807152</td>\n",
       "      <td>4.910200</td>\n",
       "      <td>56.867832</td>\n",
       "      <td>88.175461</td>\n",
       "      <td>62.995983</td>\n",
       "      <td>58.495277</td>\n",
       "      <td>51.058887</td>\n",
       "      <td>48.326859</td>\n",
       "      <td>30.450752</td>\n",
       "      <td>93.512482</td>\n",
       "      <td>29.524837</td>\n",
       "      <td>68.188904</td>\n",
       "      <td>2.441158</td>\n",
       "      <td>17.908398</td>\n",
       "      <td>8.876001</td>\n",
       "      <td>47.011276</td>\n",
       "      <td>13.439637</td>\n",
       "      <td>82.581818</td>\n",
       "      <td>0.346686</td>\n",
       "      <td>53.031300</td>\n",
       "      <td>21.254456</td>\n",
       "      <td>42.312244</td>\n",
       "      <td>13.258191</td>\n",
       "      <td>11.395221</td>\n",
       "      <td>12.196902</td>\n",
       "      <td>50.357437</td>\n",
       "      <td>31.003477</td>\n",
       "      <td>75.786171</td>\n",
       "      <td>28.294895</td>\n",
       "      <td>143.393860</td>\n",
       "      <td>15.940356</td>\n",
       "      <td>132.618973</td>\n",
       "      <td>64.287582</td>\n",
       "      <td>2.736980</td>\n",
       "      <td>46.563217</td>\n",
       "      <td>78.406326</td>\n",
       "      <td>4.591570</td>\n",
       "      <td>64.395172</td>\n",
       "      <td>29.584888</td>\n",
       "      <td>82.291924</td>\n",
       "      <td>96.828735</td>\n",
       "      <td>41.207718</td>\n",
       "      <td>90.510277</td>\n",
       "      <td>24.903721</td>\n",
       "      <td>60.933807</td>\n",
       "      <td>21.879524</td>\n",
       "      <td>48.051586</td>\n",
       "      <td>46.807144</td>\n",
       "    </tr>\n",
       "    <tr>\n",
       "      <th>203104</th>\n",
       "      <td>2031</td>\n",
       "      <td>4</td>\n",
       "      <td>52.548229</td>\n",
       "      <td>146.872131</td>\n",
       "      <td>81.465393</td>\n",
       "      <td>36.321266</td>\n",
       "      <td>45.842476</td>\n",
       "      <td>31.457739</td>\n",
       "      <td>67.815125</td>\n",
       "      <td>53.177341</td>\n",
       "      <td>20.931807</td>\n",
       "      <td>48.072079</td>\n",
       "      <td>95.897636</td>\n",
       "      <td>42.514969</td>\n",
       "      <td>58.354912</td>\n",
       "      <td>75.798294</td>\n",
       "      <td>40.144779</td>\n",
       "      <td>9.726357</td>\n",
       "      <td>114.082466</td>\n",
       "      <td>14.205497</td>\n",
       "      <td>67.669228</td>\n",
       "      <td>56.084084</td>\n",
       "      <td>38.487980</td>\n",
       "      <td>58.322403</td>\n",
       "      <td>41.517906</td>\n",
       "      <td>54.427280</td>\n",
       "      <td>35.900311</td>\n",
       "      <td>28.705147</td>\n",
       "      <td>53.726181</td>\n",
       "      <td>14.674707</td>\n",
       "      <td>46.427780</td>\n",
       "      <td>70.665939</td>\n",
       "      <td>70.907288</td>\n",
       "      <td>92.622856</td>\n",
       "      <td>61.256195</td>\n",
       "      <td>9.882153</td>\n",
       "      <td>23.219120</td>\n",
       "      <td>42.667152</td>\n",
       "      <td>65.148819</td>\n",
       "      <td>128.524017</td>\n",
       "      <td>20.501783</td>\n",
       "      <td>30.191422</td>\n",
       "      <td>18.530592</td>\n",
       "      <td>144.167496</td>\n",
       "      <td>69.148521</td>\n",
       "      <td>44.188198</td>\n",
       "      <td>20.616037</td>\n",
       "      <td>17.123625</td>\n",
       "      <td>9.234181</td>\n",
       "      <td>52.548222</td>\n",
       "    </tr>\n",
       "    <tr>\n",
       "      <th>203105</th>\n",
       "      <td>2031</td>\n",
       "      <td>5</td>\n",
       "      <td>99.085129</td>\n",
       "      <td>47.950584</td>\n",
       "      <td>60.373016</td>\n",
       "      <td>107.316429</td>\n",
       "      <td>15.303140</td>\n",
       "      <td>54.597057</td>\n",
       "      <td>101.222855</td>\n",
       "      <td>209.217636</td>\n",
       "      <td>41.101631</td>\n",
       "      <td>83.087105</td>\n",
       "      <td>276.777618</td>\n",
       "      <td>95.666374</td>\n",
       "      <td>47.411091</td>\n",
       "      <td>40.601624</td>\n",
       "      <td>258.992218</td>\n",
       "      <td>102.875389</td>\n",
       "      <td>154.352402</td>\n",
       "      <td>78.040558</td>\n",
       "      <td>256.361481</td>\n",
       "      <td>86.454575</td>\n",
       "      <td>12.653229</td>\n",
       "      <td>94.738762</td>\n",
       "      <td>99.782677</td>\n",
       "      <td>46.446411</td>\n",
       "      <td>56.329159</td>\n",
       "      <td>72.391632</td>\n",
       "      <td>125.368347</td>\n",
       "      <td>18.304520</td>\n",
       "      <td>157.453430</td>\n",
       "      <td>93.187645</td>\n",
       "      <td>60.485477</td>\n",
       "      <td>137.604019</td>\n",
       "      <td>171.435410</td>\n",
       "      <td>120.034492</td>\n",
       "      <td>48.777863</td>\n",
       "      <td>61.601925</td>\n",
       "      <td>93.811699</td>\n",
       "      <td>126.079811</td>\n",
       "      <td>117.122635</td>\n",
       "      <td>207.864090</td>\n",
       "      <td>22.286890</td>\n",
       "      <td>171.701859</td>\n",
       "      <td>27.365328</td>\n",
       "      <td>84.244583</td>\n",
       "      <td>102.376122</td>\n",
       "      <td>55.523434</td>\n",
       "      <td>55.241821</td>\n",
       "      <td>99.085106</td>\n",
       "    </tr>\n",
       "  </tbody>\n",
       "</table>"
      ],
      "text/plain": [
       "<IPython.core.display.HTML object>"
      ]
     },
     "metadata": {},
     "output_type": "display_data"
    }
   ],
   "source": [
    "display( HTML( MonTSDF.head().to_html() ) )"
   ]
  },
  {
   "cell_type": "code",
   "execution_count": 50,
   "id": "8785118a-a7a8-4484-86db-bd1561b18f1a",
   "metadata": {},
   "outputs": [],
   "source": [
    "dropCols = [\"Month\", \"Ensemble Average\", \"Check_EnsAve\" ]"
   ]
  },
  {
   "cell_type": "code",
   "execution_count": 51,
   "id": "0464eceb-4f41-4ab2-814c-6fcd7a6b894d",
   "metadata": {},
   "outputs": [],
   "source": [
    "MonTSDF.drop(columns=dropCols, inplace=True )"
   ]
  },
  {
   "cell_type": "code",
   "execution_count": 52,
   "id": "37946b94-c1ee-4c00-8678-ac9828143bf4",
   "metadata": {},
   "outputs": [],
   "source": [
    "L2Cols = list( MonTSDF.columns )\n",
    "L2Cols.remove(\"Year\")"
   ]
  },
  {
   "cell_type": "code",
   "execution_count": 53,
   "id": "38564451-f694-48ff-8aad-9c8f5486bd48",
   "metadata": {},
   "outputs": [],
   "source": [
    "L2AnnDF = MonTSDF.groupby(by=\"Year\").sum()"
   ]
  },
  {
   "cell_type": "code",
   "execution_count": 54,
   "id": "aecb1291-8004-4ea3-8f37-43e1455fca57",
   "metadata": {},
   "outputs": [
    {
     "data": {
      "text/html": [
       "<table border=\"1\" class=\"dataframe\">\n",
       "  <thead>\n",
       "    <tr style=\"text-align: right;\">\n",
       "      <th></th>\n",
       "      <th>M51L</th>\n",
       "      <th>M51H</th>\n",
       "      <th>M52L</th>\n",
       "      <th>M52H</th>\n",
       "      <th>M53L</th>\n",
       "      <th>M53H</th>\n",
       "      <th>M55L</th>\n",
       "      <th>M55H</th>\n",
       "      <th>M56L</th>\n",
       "      <th>M56H</th>\n",
       "      <th>M57L</th>\n",
       "      <th>M57H</th>\n",
       "      <th>M58L</th>\n",
       "      <th>M58H</th>\n",
       "      <th>M59L</th>\n",
       "      <th>M59H</th>\n",
       "      <th>M60L</th>\n",
       "      <th>M60H</th>\n",
       "      <th>M61L</th>\n",
       "      <th>M61H</th>\n",
       "      <th>M62L</th>\n",
       "      <th>M62H</th>\n",
       "      <th>M63L</th>\n",
       "      <th>M63H</th>\n",
       "      <th>M64L</th>\n",
       "      <th>M64H</th>\n",
       "      <th>M65L</th>\n",
       "      <th>M65H</th>\n",
       "      <th>M66L</th>\n",
       "      <th>M66H</th>\n",
       "      <th>M67L</th>\n",
       "      <th>M67H</th>\n",
       "      <th>M68L</th>\n",
       "      <th>M68H</th>\n",
       "      <th>M69L</th>\n",
       "      <th>M69H</th>\n",
       "      <th>M70L</th>\n",
       "      <th>M70H</th>\n",
       "      <th>M71L</th>\n",
       "      <th>M71H</th>\n",
       "      <th>M72L</th>\n",
       "      <th>M72H</th>\n",
       "      <th>M73L</th>\n",
       "      <th>M73H</th>\n",
       "      <th>M74L</th>\n",
       "      <th>M74H</th>\n",
       "    </tr>\n",
       "    <tr>\n",
       "      <th>Year</th>\n",
       "      <th></th>\n",
       "      <th></th>\n",
       "      <th></th>\n",
       "      <th></th>\n",
       "      <th></th>\n",
       "      <th></th>\n",
       "      <th></th>\n",
       "      <th></th>\n",
       "      <th></th>\n",
       "      <th></th>\n",
       "      <th></th>\n",
       "      <th></th>\n",
       "      <th></th>\n",
       "      <th></th>\n",
       "      <th></th>\n",
       "      <th></th>\n",
       "      <th></th>\n",
       "      <th></th>\n",
       "      <th></th>\n",
       "      <th></th>\n",
       "      <th></th>\n",
       "      <th></th>\n",
       "      <th></th>\n",
       "      <th></th>\n",
       "      <th></th>\n",
       "      <th></th>\n",
       "      <th></th>\n",
       "      <th></th>\n",
       "      <th></th>\n",
       "      <th></th>\n",
       "      <th></th>\n",
       "      <th></th>\n",
       "      <th></th>\n",
       "      <th></th>\n",
       "      <th></th>\n",
       "      <th></th>\n",
       "      <th></th>\n",
       "      <th></th>\n",
       "      <th></th>\n",
       "      <th></th>\n",
       "      <th></th>\n",
       "      <th></th>\n",
       "      <th></th>\n",
       "      <th></th>\n",
       "      <th></th>\n",
       "      <th></th>\n",
       "    </tr>\n",
       "  </thead>\n",
       "  <tbody>\n",
       "    <tr>\n",
       "      <th>2031</th>\n",
       "      <td>994.969833</td>\n",
       "      <td>669.949901</td>\n",
       "      <td>668.361314</td>\n",
       "      <td>645.033369</td>\n",
       "      <td>860.797541</td>\n",
       "      <td>741.841868</td>\n",
       "      <td>751.149466</td>\n",
       "      <td>586.877575</td>\n",
       "      <td>616.163423</td>\n",
       "      <td>755.585417</td>\n",
       "      <td>727.589380</td>\n",
       "      <td>684.133131</td>\n",
       "      <td>676.272291</td>\n",
       "      <td>403.254842</td>\n",
       "      <td>646.487055</td>\n",
       "      <td>828.121271</td>\n",
       "      <td>456.127711</td>\n",
       "      <td>657.518759</td>\n",
       "      <td>480.984259</td>\n",
       "      <td>315.426726</td>\n",
       "      <td>639.097284</td>\n",
       "      <td>532.707430</td>\n",
       "      <td>456.376353</td>\n",
       "      <td>544.605392</td>\n",
       "      <td>415.010222</td>\n",
       "      <td>913.617934</td>\n",
       "      <td>460.296441</td>\n",
       "      <td>1011.456209</td>\n",
       "      <td>931.559423</td>\n",
       "      <td>670.411565</td>\n",
       "      <td>659.075501</td>\n",
       "      <td>986.347448</td>\n",
       "      <td>648.956106</td>\n",
       "      <td>616.600900</td>\n",
       "      <td>621.892414</td>\n",
       "      <td>651.850402</td>\n",
       "      <td>731.378108</td>\n",
       "      <td>637.088542</td>\n",
       "      <td>800.655039</td>\n",
       "      <td>393.866552</td>\n",
       "      <td>723.863229</td>\n",
       "      <td>796.357449</td>\n",
       "      <td>648.817297</td>\n",
       "      <td>662.851114</td>\n",
       "      <td>477.014782</td>\n",
       "      <td>325.553685</td>\n",
       "    </tr>\n",
       "    <tr>\n",
       "      <th>2032</th>\n",
       "      <td>877.333735</td>\n",
       "      <td>989.575569</td>\n",
       "      <td>1018.419743</td>\n",
       "      <td>619.310760</td>\n",
       "      <td>484.638170</td>\n",
       "      <td>696.581475</td>\n",
       "      <td>699.744228</td>\n",
       "      <td>618.493233</td>\n",
       "      <td>763.204567</td>\n",
       "      <td>539.140769</td>\n",
       "      <td>849.990924</td>\n",
       "      <td>913.156560</td>\n",
       "      <td>886.448846</td>\n",
       "      <td>474.889314</td>\n",
       "      <td>648.174089</td>\n",
       "      <td>1110.649227</td>\n",
       "      <td>802.949495</td>\n",
       "      <td>1085.404850</td>\n",
       "      <td>962.682435</td>\n",
       "      <td>472.991220</td>\n",
       "      <td>805.883843</td>\n",
       "      <td>713.157722</td>\n",
       "      <td>1022.563051</td>\n",
       "      <td>519.833661</td>\n",
       "      <td>761.911559</td>\n",
       "      <td>551.183947</td>\n",
       "      <td>1150.937687</td>\n",
       "      <td>498.563988</td>\n",
       "      <td>523.374025</td>\n",
       "      <td>709.376936</td>\n",
       "      <td>643.928210</td>\n",
       "      <td>874.127388</td>\n",
       "      <td>549.705356</td>\n",
       "      <td>330.490968</td>\n",
       "      <td>611.984484</td>\n",
       "      <td>833.594294</td>\n",
       "      <td>854.534705</td>\n",
       "      <td>496.365998</td>\n",
       "      <td>629.643483</td>\n",
       "      <td>455.632981</td>\n",
       "      <td>932.154525</td>\n",
       "      <td>485.763439</td>\n",
       "      <td>659.883766</td>\n",
       "      <td>898.285576</td>\n",
       "      <td>658.909381</td>\n",
       "      <td>539.884114</td>\n",
       "    </tr>\n",
       "    <tr>\n",
       "      <th>2033</th>\n",
       "      <td>706.168818</td>\n",
       "      <td>694.516566</td>\n",
       "      <td>582.721189</td>\n",
       "      <td>428.652360</td>\n",
       "      <td>415.558740</td>\n",
       "      <td>656.578597</td>\n",
       "      <td>546.177544</td>\n",
       "      <td>432.217513</td>\n",
       "      <td>839.621607</td>\n",
       "      <td>1247.911721</td>\n",
       "      <td>491.410842</td>\n",
       "      <td>373.374944</td>\n",
       "      <td>450.818606</td>\n",
       "      <td>956.987860</td>\n",
       "      <td>490.562062</td>\n",
       "      <td>559.202943</td>\n",
       "      <td>595.500413</td>\n",
       "      <td>958.839272</td>\n",
       "      <td>456.869167</td>\n",
       "      <td>622.612134</td>\n",
       "      <td>619.509533</td>\n",
       "      <td>558.885654</td>\n",
       "      <td>391.857358</td>\n",
       "      <td>570.288625</td>\n",
       "      <td>779.379200</td>\n",
       "      <td>788.828377</td>\n",
       "      <td>827.162612</td>\n",
       "      <td>661.192399</td>\n",
       "      <td>414.141407</td>\n",
       "      <td>638.195707</td>\n",
       "      <td>420.247084</td>\n",
       "      <td>925.000344</td>\n",
       "      <td>551.743225</td>\n",
       "      <td>942.501149</td>\n",
       "      <td>597.629752</td>\n",
       "      <td>917.575113</td>\n",
       "      <td>816.254292</td>\n",
       "      <td>405.298420</td>\n",
       "      <td>526.149351</td>\n",
       "      <td>531.051687</td>\n",
       "      <td>810.908544</td>\n",
       "      <td>400.220168</td>\n",
       "      <td>644.851393</td>\n",
       "      <td>663.806321</td>\n",
       "      <td>787.178238</td>\n",
       "      <td>690.789675</td>\n",
       "    </tr>\n",
       "    <tr>\n",
       "      <th>2034</th>\n",
       "      <td>869.526120</td>\n",
       "      <td>987.367644</td>\n",
       "      <td>1007.096656</td>\n",
       "      <td>585.410912</td>\n",
       "      <td>664.982124</td>\n",
       "      <td>420.173120</td>\n",
       "      <td>672.912607</td>\n",
       "      <td>630.628531</td>\n",
       "      <td>1374.798388</td>\n",
       "      <td>504.372373</td>\n",
       "      <td>971.433550</td>\n",
       "      <td>1071.881310</td>\n",
       "      <td>425.430716</td>\n",
       "      <td>460.883312</td>\n",
       "      <td>541.123278</td>\n",
       "      <td>1224.937960</td>\n",
       "      <td>432.122957</td>\n",
       "      <td>551.168185</td>\n",
       "      <td>446.535644</td>\n",
       "      <td>812.534132</td>\n",
       "      <td>679.294295</td>\n",
       "      <td>597.972862</td>\n",
       "      <td>442.748971</td>\n",
       "      <td>409.654529</td>\n",
       "      <td>750.459413</td>\n",
       "      <td>447.968859</td>\n",
       "      <td>759.153424</td>\n",
       "      <td>874.541880</td>\n",
       "      <td>811.300165</td>\n",
       "      <td>865.318667</td>\n",
       "      <td>792.543820</td>\n",
       "      <td>431.139659</td>\n",
       "      <td>808.081326</td>\n",
       "      <td>858.684957</td>\n",
       "      <td>533.628375</td>\n",
       "      <td>647.698798</td>\n",
       "      <td>627.369245</td>\n",
       "      <td>679.598199</td>\n",
       "      <td>722.176584</td>\n",
       "      <td>881.277771</td>\n",
       "      <td>344.982782</td>\n",
       "      <td>402.751607</td>\n",
       "      <td>654.806361</td>\n",
       "      <td>607.434566</td>\n",
       "      <td>632.868618</td>\n",
       "      <td>753.893520</td>\n",
       "    </tr>\n",
       "    <tr>\n",
       "      <th>2035</th>\n",
       "      <td>779.330932</td>\n",
       "      <td>531.851271</td>\n",
       "      <td>757.115864</td>\n",
       "      <td>980.473688</td>\n",
       "      <td>1266.896349</td>\n",
       "      <td>1222.355062</td>\n",
       "      <td>1150.381518</td>\n",
       "      <td>391.006006</td>\n",
       "      <td>424.421844</td>\n",
       "      <td>687.169445</td>\n",
       "      <td>939.547192</td>\n",
       "      <td>687.476604</td>\n",
       "      <td>628.370090</td>\n",
       "      <td>485.765867</td>\n",
       "      <td>929.959004</td>\n",
       "      <td>627.479645</td>\n",
       "      <td>587.217074</td>\n",
       "      <td>329.738935</td>\n",
       "      <td>1168.526535</td>\n",
       "      <td>547.121712</td>\n",
       "      <td>599.413977</td>\n",
       "      <td>624.493054</td>\n",
       "      <td>984.309774</td>\n",
       "      <td>643.800569</td>\n",
       "      <td>407.626190</td>\n",
       "      <td>903.965867</td>\n",
       "      <td>785.150335</td>\n",
       "      <td>492.486035</td>\n",
       "      <td>616.611598</td>\n",
       "      <td>770.371117</td>\n",
       "      <td>822.040519</td>\n",
       "      <td>735.034009</td>\n",
       "      <td>741.625802</td>\n",
       "      <td>1111.043819</td>\n",
       "      <td>551.797993</td>\n",
       "      <td>584.107987</td>\n",
       "      <td>700.680406</td>\n",
       "      <td>740.732045</td>\n",
       "      <td>826.904303</td>\n",
       "      <td>442.900204</td>\n",
       "      <td>1097.371300</td>\n",
       "      <td>483.621196</td>\n",
       "      <td>916.379461</td>\n",
       "      <td>787.780585</td>\n",
       "      <td>375.918926</td>\n",
       "      <td>854.126920</td>\n",
       "    </tr>\n",
       "  </tbody>\n",
       "</table>"
      ],
      "text/plain": [
       "<IPython.core.display.HTML object>"
      ]
     },
     "metadata": {},
     "output_type": "display_data"
    }
   ],
   "source": [
    "display( HTML( L2AnnDF.head().to_html() ) )"
   ]
  },
  {
   "cell_type": "code",
   "execution_count": 55,
   "id": "6fe81be2-956e-4042-858c-5b20cc08e3e1",
   "metadata": {},
   "outputs": [
    {
     "data": {
      "text/html": [
       "<table border=\"1\" class=\"dataframe\">\n",
       "  <thead>\n",
       "    <tr style=\"text-align: right;\">\n",
       "      <th></th>\n",
       "      <th>M51L</th>\n",
       "      <th>M51H</th>\n",
       "      <th>M52L</th>\n",
       "      <th>M52H</th>\n",
       "      <th>M53L</th>\n",
       "      <th>M53H</th>\n",
       "      <th>M55L</th>\n",
       "      <th>M55H</th>\n",
       "      <th>M56L</th>\n",
       "      <th>M56H</th>\n",
       "      <th>M57L</th>\n",
       "      <th>M57H</th>\n",
       "      <th>M58L</th>\n",
       "      <th>M58H</th>\n",
       "      <th>M59L</th>\n",
       "      <th>M59H</th>\n",
       "      <th>M60L</th>\n",
       "      <th>M60H</th>\n",
       "      <th>M61L</th>\n",
       "      <th>M61H</th>\n",
       "      <th>M62L</th>\n",
       "      <th>M62H</th>\n",
       "      <th>M63L</th>\n",
       "      <th>M63H</th>\n",
       "      <th>M64L</th>\n",
       "      <th>M64H</th>\n",
       "      <th>M65L</th>\n",
       "      <th>M65H</th>\n",
       "      <th>M66L</th>\n",
       "      <th>M66H</th>\n",
       "      <th>M67L</th>\n",
       "      <th>M67H</th>\n",
       "      <th>M68L</th>\n",
       "      <th>M68H</th>\n",
       "      <th>M69L</th>\n",
       "      <th>M69H</th>\n",
       "      <th>M70L</th>\n",
       "      <th>M70H</th>\n",
       "      <th>M71L</th>\n",
       "      <th>M71H</th>\n",
       "      <th>M72L</th>\n",
       "      <th>M72H</th>\n",
       "      <th>M73L</th>\n",
       "      <th>M73H</th>\n",
       "      <th>M74L</th>\n",
       "      <th>M74H</th>\n",
       "    </tr>\n",
       "    <tr>\n",
       "      <th>Year</th>\n",
       "      <th></th>\n",
       "      <th></th>\n",
       "      <th></th>\n",
       "      <th></th>\n",
       "      <th></th>\n",
       "      <th></th>\n",
       "      <th></th>\n",
       "      <th></th>\n",
       "      <th></th>\n",
       "      <th></th>\n",
       "      <th></th>\n",
       "      <th></th>\n",
       "      <th></th>\n",
       "      <th></th>\n",
       "      <th></th>\n",
       "      <th></th>\n",
       "      <th></th>\n",
       "      <th></th>\n",
       "      <th></th>\n",
       "      <th></th>\n",
       "      <th></th>\n",
       "      <th></th>\n",
       "      <th></th>\n",
       "      <th></th>\n",
       "      <th></th>\n",
       "      <th></th>\n",
       "      <th></th>\n",
       "      <th></th>\n",
       "      <th></th>\n",
       "      <th></th>\n",
       "      <th></th>\n",
       "      <th></th>\n",
       "      <th></th>\n",
       "      <th></th>\n",
       "      <th></th>\n",
       "      <th></th>\n",
       "      <th></th>\n",
       "      <th></th>\n",
       "      <th></th>\n",
       "      <th></th>\n",
       "      <th></th>\n",
       "      <th></th>\n",
       "      <th></th>\n",
       "      <th></th>\n",
       "      <th></th>\n",
       "      <th></th>\n",
       "    </tr>\n",
       "  </thead>\n",
       "  <tbody>\n",
       "    <tr>\n",
       "      <th>2056</th>\n",
       "      <td>834.515702</td>\n",
       "      <td>542.834907</td>\n",
       "      <td>969.805490</td>\n",
       "      <td>764.335784</td>\n",
       "      <td>1068.601408</td>\n",
       "      <td>902.528821</td>\n",
       "      <td>788.978091</td>\n",
       "      <td>702.846930</td>\n",
       "      <td>1081.947626</td>\n",
       "      <td>508.456151</td>\n",
       "      <td>877.300538</td>\n",
       "      <td>857.485452</td>\n",
       "      <td>436.088048</td>\n",
       "      <td>378.154964</td>\n",
       "      <td>584.954853</td>\n",
       "      <td>631.394726</td>\n",
       "      <td>647.230773</td>\n",
       "      <td>595.131531</td>\n",
       "      <td>617.694496</td>\n",
       "      <td>365.492245</td>\n",
       "      <td>631.824550</td>\n",
       "      <td>439.755902</td>\n",
       "      <td>518.353620</td>\n",
       "      <td>837.091730</td>\n",
       "      <td>979.688477</td>\n",
       "      <td>524.145693</td>\n",
       "      <td>668.241485</td>\n",
       "      <td>706.955014</td>\n",
       "      <td>666.392740</td>\n",
       "      <td>552.664100</td>\n",
       "      <td>801.102917</td>\n",
       "      <td>432.692451</td>\n",
       "      <td>628.953133</td>\n",
       "      <td>540.745364</td>\n",
       "      <td>764.539947</td>\n",
       "      <td>613.996034</td>\n",
       "      <td>625.749836</td>\n",
       "      <td>584.789077</td>\n",
       "      <td>394.316864</td>\n",
       "      <td>823.655617</td>\n",
       "      <td>596.490948</td>\n",
       "      <td>781.683571</td>\n",
       "      <td>956.473662</td>\n",
       "      <td>656.356155</td>\n",
       "      <td>1238.827411</td>\n",
       "      <td>736.284274</td>\n",
       "    </tr>\n",
       "    <tr>\n",
       "      <th>2057</th>\n",
       "      <td>544.360092</td>\n",
       "      <td>708.827119</td>\n",
       "      <td>749.656738</td>\n",
       "      <td>842.296970</td>\n",
       "      <td>852.152530</td>\n",
       "      <td>860.036666</td>\n",
       "      <td>681.949111</td>\n",
       "      <td>852.458343</td>\n",
       "      <td>1199.539520</td>\n",
       "      <td>1052.915262</td>\n",
       "      <td>603.372188</td>\n",
       "      <td>742.860548</td>\n",
       "      <td>750.306217</td>\n",
       "      <td>759.346867</td>\n",
       "      <td>560.233507</td>\n",
       "      <td>883.260125</td>\n",
       "      <td>530.139965</td>\n",
       "      <td>515.259220</td>\n",
       "      <td>567.267038</td>\n",
       "      <td>697.750526</td>\n",
       "      <td>624.391737</td>\n",
       "      <td>628.449003</td>\n",
       "      <td>474.938622</td>\n",
       "      <td>400.198252</td>\n",
       "      <td>619.883206</td>\n",
       "      <td>503.379185</td>\n",
       "      <td>559.259580</td>\n",
       "      <td>413.207870</td>\n",
       "      <td>499.669728</td>\n",
       "      <td>440.593126</td>\n",
       "      <td>553.993738</td>\n",
       "      <td>669.548738</td>\n",
       "      <td>726.524963</td>\n",
       "      <td>655.799779</td>\n",
       "      <td>461.827912</td>\n",
       "      <td>899.398083</td>\n",
       "      <td>729.234232</td>\n",
       "      <td>611.525929</td>\n",
       "      <td>741.955809</td>\n",
       "      <td>489.338902</td>\n",
       "      <td>532.777384</td>\n",
       "      <td>664.434906</td>\n",
       "      <td>724.002395</td>\n",
       "      <td>396.733753</td>\n",
       "      <td>689.920062</td>\n",
       "      <td>367.115310</td>\n",
       "    </tr>\n",
       "    <tr>\n",
       "      <th>2058</th>\n",
       "      <td>558.328102</td>\n",
       "      <td>475.758969</td>\n",
       "      <td>895.580014</td>\n",
       "      <td>504.876763</td>\n",
       "      <td>697.909888</td>\n",
       "      <td>558.686109</td>\n",
       "      <td>1016.683393</td>\n",
       "      <td>459.242704</td>\n",
       "      <td>912.650898</td>\n",
       "      <td>1215.193724</td>\n",
       "      <td>432.738152</td>\n",
       "      <td>577.448938</td>\n",
       "      <td>796.517617</td>\n",
       "      <td>682.818242</td>\n",
       "      <td>568.111622</td>\n",
       "      <td>470.505315</td>\n",
       "      <td>822.887578</td>\n",
       "      <td>884.861265</td>\n",
       "      <td>406.395899</td>\n",
       "      <td>766.137974</td>\n",
       "      <td>651.377053</td>\n",
       "      <td>914.255525</td>\n",
       "      <td>827.123800</td>\n",
       "      <td>644.721481</td>\n",
       "      <td>741.056200</td>\n",
       "      <td>653.090046</td>\n",
       "      <td>744.090951</td>\n",
       "      <td>646.092043</td>\n",
       "      <td>936.569726</td>\n",
       "      <td>719.394070</td>\n",
       "      <td>484.589515</td>\n",
       "      <td>756.071497</td>\n",
       "      <td>995.744476</td>\n",
       "      <td>800.338779</td>\n",
       "      <td>842.268263</td>\n",
       "      <td>782.188626</td>\n",
       "      <td>486.069757</td>\n",
       "      <td>585.264038</td>\n",
       "      <td>617.280430</td>\n",
       "      <td>501.493715</td>\n",
       "      <td>499.874023</td>\n",
       "      <td>884.642845</td>\n",
       "      <td>1108.045838</td>\n",
       "      <td>679.580977</td>\n",
       "      <td>638.219191</td>\n",
       "      <td>699.402272</td>\n",
       "    </tr>\n",
       "    <tr>\n",
       "      <th>2059</th>\n",
       "      <td>358.374249</td>\n",
       "      <td>431.560232</td>\n",
       "      <td>773.820590</td>\n",
       "      <td>878.543302</td>\n",
       "      <td>1048.108871</td>\n",
       "      <td>636.685372</td>\n",
       "      <td>410.249374</td>\n",
       "      <td>377.636527</td>\n",
       "      <td>624.227608</td>\n",
       "      <td>820.524736</td>\n",
       "      <td>1105.135025</td>\n",
       "      <td>1066.687572</td>\n",
       "      <td>992.844877</td>\n",
       "      <td>765.363363</td>\n",
       "      <td>330.735294</td>\n",
       "      <td>585.512964</td>\n",
       "      <td>809.376117</td>\n",
       "      <td>451.789054</td>\n",
       "      <td>677.279174</td>\n",
       "      <td>639.284274</td>\n",
       "      <td>467.173211</td>\n",
       "      <td>547.848750</td>\n",
       "      <td>982.953488</td>\n",
       "      <td>797.102002</td>\n",
       "      <td>479.514838</td>\n",
       "      <td>767.275877</td>\n",
       "      <td>714.333697</td>\n",
       "      <td>621.340886</td>\n",
       "      <td>275.929910</td>\n",
       "      <td>1282.557539</td>\n",
       "      <td>418.741537</td>\n",
       "      <td>662.031693</td>\n",
       "      <td>429.132380</td>\n",
       "      <td>1061.946924</td>\n",
       "      <td>1069.487889</td>\n",
       "      <td>733.818217</td>\n",
       "      <td>856.278835</td>\n",
       "      <td>450.807074</td>\n",
       "      <td>928.915837</td>\n",
       "      <td>505.434304</td>\n",
       "      <td>486.907303</td>\n",
       "      <td>697.803685</td>\n",
       "      <td>555.095347</td>\n",
       "      <td>589.754431</td>\n",
       "      <td>728.354343</td>\n",
       "      <td>1050.573592</td>\n",
       "    </tr>\n",
       "    <tr>\n",
       "      <th>2060</th>\n",
       "      <td>688.807842</td>\n",
       "      <td>886.594893</td>\n",
       "      <td>813.227368</td>\n",
       "      <td>533.545086</td>\n",
       "      <td>959.904034</td>\n",
       "      <td>537.103092</td>\n",
       "      <td>437.258948</td>\n",
       "      <td>643.961376</td>\n",
       "      <td>588.369377</td>\n",
       "      <td>628.332400</td>\n",
       "      <td>708.590492</td>\n",
       "      <td>602.646918</td>\n",
       "      <td>471.596095</td>\n",
       "      <td>409.512933</td>\n",
       "      <td>439.723290</td>\n",
       "      <td>841.267104</td>\n",
       "      <td>515.590952</td>\n",
       "      <td>732.399013</td>\n",
       "      <td>770.809099</td>\n",
       "      <td>1127.081171</td>\n",
       "      <td>654.610342</td>\n",
       "      <td>701.117741</td>\n",
       "      <td>741.640253</td>\n",
       "      <td>870.947251</td>\n",
       "      <td>912.709143</td>\n",
       "      <td>605.195154</td>\n",
       "      <td>477.156447</td>\n",
       "      <td>904.505725</td>\n",
       "      <td>902.494069</td>\n",
       "      <td>703.839138</td>\n",
       "      <td>736.337945</td>\n",
       "      <td>852.639214</td>\n",
       "      <td>685.557619</td>\n",
       "      <td>710.266153</td>\n",
       "      <td>840.859988</td>\n",
       "      <td>647.387866</td>\n",
       "      <td>976.606819</td>\n",
       "      <td>813.898209</td>\n",
       "      <td>312.259234</td>\n",
       "      <td>616.777483</td>\n",
       "      <td>620.359228</td>\n",
       "      <td>304.795660</td>\n",
       "      <td>786.932859</td>\n",
       "      <td>1076.195818</td>\n",
       "      <td>859.535544</td>\n",
       "      <td>578.456008</td>\n",
       "    </tr>\n",
       "  </tbody>\n",
       "</table>"
      ],
      "text/plain": [
       "<IPython.core.display.HTML object>"
      ]
     },
     "metadata": {},
     "output_type": "display_data"
    }
   ],
   "source": [
    "display( HTML( L2AnnDF.tail().to_html() ) )"
   ]
  },
  {
   "cell_type": "code",
   "execution_count": 56,
   "id": "96eae3bb-d0d5-46be-a10b-4373b255f723",
   "metadata": {},
   "outputs": [],
   "source": [
    "L2AnnValuesList = list()"
   ]
  },
  {
   "cell_type": "code",
   "execution_count": 57,
   "id": "f51ecd98-b767-42c6-b6d2-d2bdfe82a3e9",
   "metadata": {},
   "outputs": [],
   "source": [
    "for tCol in L2Cols:\n",
    "    L2AnnValuesList.append( L2AnnDF[tCol].to_numpy(dtype=np.float32).flatten() )\n",
    "# end for"
   ]
  },
  {
   "cell_type": "code",
   "execution_count": 58,
   "id": "aa66fdfb-cbec-409d-b2fc-13d5c2f9d113",
   "metadata": {},
   "outputs": [
    {
     "data": {
      "text/plain": [
       "1380"
      ]
     },
     "execution_count": 58,
     "metadata": {},
     "output_type": "execute_result"
    }
   ],
   "source": [
    "npL2AnnVals = np.concatenate( L2AnnValuesList )\n",
    "NumL2 = len( npL2AnnVals )\n",
    "NumL2"
   ]
  },
  {
   "cell_type": "code",
   "execution_count": 59,
   "id": "013adbf7-ffe5-4977-a931-d16fea788fac",
   "metadata": {},
   "outputs": [
    {
     "data": {
      "text/plain": [
       "(663.8611, 688.4111, 212.85031)"
      ]
     },
     "execution_count": 59,
     "metadata": {},
     "output_type": "execute_result"
    }
   ],
   "source": [
    "np.median( npL2AnnVals ), npL2AnnVals.mean(), npL2AnnVals.std()"
   ]
  },
  {
   "cell_type": "code",
   "execution_count": 60,
   "id": "4128fb85-0e1a-43c1-87fe-6cc9e9f88af9",
   "metadata": {},
   "outputs": [],
   "source": [
    "L2LabelsList = [ \"LOCA2 2031-2060\" for x in range(NumL2) ]"
   ]
  },
  {
   "cell_type": "code",
   "execution_count": 61,
   "id": "81aa9ca1-c476-4b6a-a7d3-4032b302a92e",
   "metadata": {},
   "outputs": [],
   "source": [
    "InFiler = os.path.normpath( os.path.join( IN_DIR3, \"FBas_MetTS_1980to2020.xlsx\" ) )\n",
    "HODF = pd.read_excel( InFiler, sheet_name=BasKey, header=0, index_col=0, parse_dates=True )"
   ]
  },
  {
   "cell_type": "code",
   "execution_count": 62,
   "id": "80d2ff29-f9a3-42ec-9b93-5f0a53325f50",
   "metadata": {},
   "outputs": [
    {
     "data": {
      "text/html": [
       "<table border=\"1\" class=\"dataframe\">\n",
       "  <thead>\n",
       "    <tr style=\"text-align: right;\">\n",
       "      <th></th>\n",
       "      <th>Pre_mm</th>\n",
       "      <th>MaxT_C</th>\n",
       "      <th>MinT_C</th>\n",
       "      <th>AveT_C</th>\n",
       "      <th>ETo_mm</th>\n",
       "      <th>Def_mm</th>\n",
       "    </tr>\n",
       "    <tr>\n",
       "      <th>DateTime</th>\n",
       "      <th></th>\n",
       "      <th></th>\n",
       "      <th></th>\n",
       "      <th></th>\n",
       "      <th></th>\n",
       "      <th></th>\n",
       "    </tr>\n",
       "  </thead>\n",
       "  <tbody>\n",
       "    <tr>\n",
       "      <th>1980-01-01</th>\n",
       "      <td>0.0</td>\n",
       "      <td>17.210241</td>\n",
       "      <td>-2.786118</td>\n",
       "      <td>7.212062</td>\n",
       "      <td>1.780014</td>\n",
       "      <td>-1.780014</td>\n",
       "    </tr>\n",
       "    <tr>\n",
       "      <th>1980-01-02</th>\n",
       "      <td>0.0</td>\n",
       "      <td>18.075875</td>\n",
       "      <td>0.884738</td>\n",
       "      <td>9.480307</td>\n",
       "      <td>1.946088</td>\n",
       "      <td>-1.946088</td>\n",
       "    </tr>\n",
       "    <tr>\n",
       "      <th>1980-01-03</th>\n",
       "      <td>0.0</td>\n",
       "      <td>14.485908</td>\n",
       "      <td>2.471285</td>\n",
       "      <td>8.478596</td>\n",
       "      <td>1.879541</td>\n",
       "      <td>-1.879541</td>\n",
       "    </tr>\n",
       "    <tr>\n",
       "      <th>1980-01-04</th>\n",
       "      <td>0.0</td>\n",
       "      <td>15.662555</td>\n",
       "      <td>-2.971982</td>\n",
       "      <td>6.345286</td>\n",
       "      <td>1.731770</td>\n",
       "      <td>-1.731770</td>\n",
       "    </tr>\n",
       "    <tr>\n",
       "      <th>1980-01-05</th>\n",
       "      <td>0.0</td>\n",
       "      <td>18.334945</td>\n",
       "      <td>-1.406646</td>\n",
       "      <td>8.464149</td>\n",
       "      <td>1.889346</td>\n",
       "      <td>-1.889346</td>\n",
       "    </tr>\n",
       "  </tbody>\n",
       "</table>"
      ],
      "text/plain": [
       "<IPython.core.display.HTML object>"
      ]
     },
     "metadata": {},
     "output_type": "display_data"
    }
   ],
   "source": [
    "display( HTML( HODF.head().to_html() ) )"
   ]
  },
  {
   "cell_type": "code",
   "execution_count": 63,
   "id": "26db5a44-5f76-4b80-98c6-cf437ba7e150",
   "metadata": {},
   "outputs": [],
   "source": [
    "HODF = HODF[[\"Pre_mm\"]].loc[pd.Timestamp( 1991, 1, 1, ):pd.Timestamp(2020, 12, 31, 23, 59, )].copy()"
   ]
  },
  {
   "cell_type": "code",
   "execution_count": 64,
   "id": "d874c437-f6f9-467e-a131-fc91b35c4932",
   "metadata": {},
   "outputs": [
    {
     "data": {
      "text/html": [
       "<table border=\"1\" class=\"dataframe\">\n",
       "  <thead>\n",
       "    <tr style=\"text-align: right;\">\n",
       "      <th></th>\n",
       "      <th>Pre_mm</th>\n",
       "    </tr>\n",
       "    <tr>\n",
       "      <th>DateTime</th>\n",
       "      <th></th>\n",
       "    </tr>\n",
       "  </thead>\n",
       "  <tbody>\n",
       "    <tr>\n",
       "      <th>1991-01-01</th>\n",
       "      <td>0.018020</td>\n",
       "    </tr>\n",
       "    <tr>\n",
       "      <th>1991-01-02</th>\n",
       "      <td>2.352172</td>\n",
       "    </tr>\n",
       "    <tr>\n",
       "      <th>1991-01-03</th>\n",
       "      <td>1.676376</td>\n",
       "    </tr>\n",
       "    <tr>\n",
       "      <th>1991-01-04</th>\n",
       "      <td>2.740652</td>\n",
       "    </tr>\n",
       "    <tr>\n",
       "      <th>1991-01-05</th>\n",
       "      <td>0.514027</td>\n",
       "    </tr>\n",
       "  </tbody>\n",
       "</table>"
      ],
      "text/plain": [
       "<IPython.core.display.HTML object>"
      ]
     },
     "metadata": {},
     "output_type": "display_data"
    }
   ],
   "source": [
    "display( HTML( HODF.head().to_html() ) )"
   ]
  },
  {
   "cell_type": "code",
   "execution_count": 65,
   "id": "abc43ece-cee7-4529-bc7f-1bf1ea379e40",
   "metadata": {},
   "outputs": [
    {
     "data": {
      "text/html": [
       "<table border=\"1\" class=\"dataframe\">\n",
       "  <thead>\n",
       "    <tr style=\"text-align: right;\">\n",
       "      <th></th>\n",
       "      <th>Pre_mm</th>\n",
       "    </tr>\n",
       "    <tr>\n",
       "      <th>DateTime</th>\n",
       "      <th></th>\n",
       "    </tr>\n",
       "  </thead>\n",
       "  <tbody>\n",
       "    <tr>\n",
       "      <th>2020-12-27</th>\n",
       "      <td>0.000000</td>\n",
       "    </tr>\n",
       "    <tr>\n",
       "      <th>2020-12-28</th>\n",
       "      <td>1.642914</td>\n",
       "    </tr>\n",
       "    <tr>\n",
       "      <th>2020-12-29</th>\n",
       "      <td>0.000000</td>\n",
       "    </tr>\n",
       "    <tr>\n",
       "      <th>2020-12-30</th>\n",
       "      <td>42.605934</td>\n",
       "    </tr>\n",
       "    <tr>\n",
       "      <th>2020-12-31</th>\n",
       "      <td>42.605934</td>\n",
       "    </tr>\n",
       "  </tbody>\n",
       "</table>"
      ],
      "text/plain": [
       "<IPython.core.display.HTML object>"
      ]
     },
     "metadata": {},
     "output_type": "display_data"
    }
   ],
   "source": [
    "display( HTML( HODF.tail().to_html() ) )"
   ]
  },
  {
   "cell_type": "code",
   "execution_count": 66,
   "id": "ab440b57-9736-4f9d-8a2a-3961e8cb5f5f",
   "metadata": {},
   "outputs": [],
   "source": [
    "HOAnnDF = HODF.resample( 'AS' ).sum()"
   ]
  },
  {
   "cell_type": "code",
   "execution_count": 67,
   "id": "9d7f4152-6d7a-4074-8f8d-ac92f6afe8f3",
   "metadata": {},
   "outputs": [
    {
     "data": {
      "text/html": [
       "<table border=\"1\" class=\"dataframe\">\n",
       "  <thead>\n",
       "    <tr style=\"text-align: right;\">\n",
       "      <th></th>\n",
       "      <th>Pre_mm</th>\n",
       "    </tr>\n",
       "    <tr>\n",
       "      <th>DateTime</th>\n",
       "      <th></th>\n",
       "    </tr>\n",
       "  </thead>\n",
       "  <tbody>\n",
       "    <tr>\n",
       "      <th>1991-01-01</th>\n",
       "      <td>988.847531</td>\n",
       "    </tr>\n",
       "    <tr>\n",
       "      <th>1992-01-01</th>\n",
       "      <td>902.628745</td>\n",
       "    </tr>\n",
       "    <tr>\n",
       "      <th>1993-01-01</th>\n",
       "      <td>415.844819</td>\n",
       "    </tr>\n",
       "    <tr>\n",
       "      <th>1994-01-01</th>\n",
       "      <td>885.474958</td>\n",
       "    </tr>\n",
       "    <tr>\n",
       "      <th>1995-01-01</th>\n",
       "      <td>701.181956</td>\n",
       "    </tr>\n",
       "  </tbody>\n",
       "</table>"
      ],
      "text/plain": [
       "<IPython.core.display.HTML object>"
      ]
     },
     "metadata": {},
     "output_type": "display_data"
    }
   ],
   "source": [
    "display( HTML( HOAnnDF.head().to_html() ) )"
   ]
  },
  {
   "cell_type": "code",
   "execution_count": 68,
   "id": "0f7b6586-fdda-4bad-8ed2-e88d81af5e5b",
   "metadata": {},
   "outputs": [
    {
     "data": {
      "text/html": [
       "<table border=\"1\" class=\"dataframe\">\n",
       "  <thead>\n",
       "    <tr style=\"text-align: right;\">\n",
       "      <th></th>\n",
       "      <th>Pre_mm</th>\n",
       "    </tr>\n",
       "    <tr>\n",
       "      <th>DateTime</th>\n",
       "      <th></th>\n",
       "    </tr>\n",
       "  </thead>\n",
       "  <tbody>\n",
       "    <tr>\n",
       "      <th>2016-01-01</th>\n",
       "      <td>936.599595</td>\n",
       "    </tr>\n",
       "    <tr>\n",
       "      <th>2017-01-01</th>\n",
       "      <td>822.614125</td>\n",
       "    </tr>\n",
       "    <tr>\n",
       "      <th>2018-01-01</th>\n",
       "      <td>1185.491743</td>\n",
       "    </tr>\n",
       "    <tr>\n",
       "      <th>2019-01-01</th>\n",
       "      <td>546.065632</td>\n",
       "    </tr>\n",
       "    <tr>\n",
       "      <th>2020-01-01</th>\n",
       "      <td>749.778162</td>\n",
       "    </tr>\n",
       "  </tbody>\n",
       "</table>"
      ],
      "text/plain": [
       "<IPython.core.display.HTML object>"
      ]
     },
     "metadata": {},
     "output_type": "display_data"
    }
   ],
   "source": [
    "display( HTML( HOAnnDF.tail().to_html() ) )"
   ]
  },
  {
   "cell_type": "code",
   "execution_count": 69,
   "id": "870757dd-759a-45be-ab18-9ac1413a30cc",
   "metadata": {},
   "outputs": [
    {
     "data": {
      "text/plain": [
       "30"
      ]
     },
     "execution_count": 69,
     "metadata": {},
     "output_type": "execute_result"
    }
   ],
   "source": [
    "npHOAnnVals = HOAnnDF[\"Pre_mm\"].to_numpy(dtype=np.float32).flatten()\n",
    "NumHO = len( npHOAnnVals )\n",
    "NumHO"
   ]
  },
  {
   "cell_type": "code",
   "execution_count": 70,
   "id": "0a87f58b-e91d-4c9e-87e5-a6cca9dc87f2",
   "metadata": {},
   "outputs": [
    {
     "data": {
      "text/plain": [
       "(759.51764, 782.0069, 235.174)"
      ]
     },
     "execution_count": 70,
     "metadata": {},
     "output_type": "execute_result"
    }
   ],
   "source": [
    "np.median( npHOAnnVals ), npHOAnnVals.mean(), npHOAnnVals.std()"
   ]
  },
  {
   "cell_type": "code",
   "execution_count": 71,
   "id": "178d4fbf-8134-4967-b730-8ea6872deea3",
   "metadata": {},
   "outputs": [],
   "source": [
    "HOLabelsList = [ \"Obs. 1991-2020\" for x in range(NumHO) ]"
   ]
  },
  {
   "cell_type": "markdown",
   "id": "011d3358-9171-4a4b-a64e-b163e81937d1",
   "metadata": {},
   "source": [
    "Make the combined DataFrame for plotting"
   ]
  },
  {
   "cell_type": "code",
   "execution_count": 72,
   "id": "1f6f02e3-0a7c-4662-8fa5-236cc01b56aa",
   "metadata": {},
   "outputs": [
    {
     "data": {
      "text/plain": [
       "31410"
      ]
     },
     "execution_count": 72,
     "metadata": {},
     "output_type": "execute_result"
    }
   ],
   "source": [
    "AllLabelsList = deepcopy( WGLabelsList )\n",
    "AllLabelsList.extend( L2LabelsList )\n",
    "AllLabelsList.extend( HOLabelsList )\n",
    "len( AllLabelsList )"
   ]
  },
  {
   "cell_type": "code",
   "execution_count": 73,
   "id": "62352c73-e5d5-4a62-8e99-e2b7ed98ece5",
   "metadata": {},
   "outputs": [
    {
     "data": {
      "text/plain": [
       "31410"
      ]
     },
     "execution_count": 73,
     "metadata": {},
     "output_type": "execute_result"
    }
   ],
   "source": [
    "npAllAnn = np.concatenate( [npWGAnnVals, npL2AnnVals, npHOAnnVals], )\n",
    "len( npAllAnn )"
   ]
  },
  {
   "cell_type": "code",
   "execution_count": 74,
   "id": "3df4bbc5-5136-44e6-91a8-8415d6d3cc65",
   "metadata": {},
   "outputs": [],
   "source": [
    "DataDict = { \"Labels\" : AllLabelsList, \"AnnPre_mm\" : npAllAnn, }\n",
    "BwDF = pd.DataFrame( data=DataDict )"
   ]
  },
  {
   "cell_type": "code",
   "execution_count": 75,
   "id": "b345bfd3-361c-4ba8-8ff4-f5222425924a",
   "metadata": {},
   "outputs": [],
   "source": [
    "OutFilePDF = os.path.normpath( os.path.join( OUT_DIR, \"Plots\", \"BW_AnnPrecipDepth_%s.pdf\" % BasKey ) )\n",
    "OutFileSVG = os.path.normpath( os.path.join( OUT_DIR, \"Plots\", \"BW_AnnPrecipDepth_%s.svg\" % BasKey ) )\n",
    "OutFilePNG = os.path.normpath( os.path.join( OUT_DIR, \"Plots\", \"BW_AnnPrecipDepth_%s.png\" % BasKey ) )"
   ]
  },
  {
   "cell_type": "code",
   "execution_count": 76,
   "id": "27ce1931-2bc1-491e-b2ae-6b73d557f582",
   "metadata": {},
   "outputs": [
    {
     "data": {
      "image/png": "[encoded data removed]",
      "text/plain": [
       "<Figure size 650x500 with 1 Axes>"
      ]
     },
     "metadata": {},
     "output_type": "display_data"
    }
   ],
   "source": [
    "Fig1 = plt.figure()\n",
    "Fig1.set_size_inches(6.5, 5.0)\n",
    "ax11 = Fig1.add_subplot(111)\n",
    "g1 = sns.boxplot( x=\"Labels\", y=\"AnnPre_mm\", hue=\"Labels\", orient=\"v\", \n",
    "                  linewidth=1.0, showmeans=True, dodge=False,\n",
    "                  palette={ \"Obs. 1991-2020\" : \"xkcd:sky blue\",\n",
    "                            \"LOCA2 2031-2060\" : \"xkcd:ocean blue\",\n",
    "                            \"WG 2031-2060\" : \"xkcd:pumpkin\", },\n",
    "                  data=BwDF, ax=ax11 )\n",
    "g1.legend(loc=\"upper right\", framealpha=1.0, fontsize=9 )\n",
    "#g1.set_yscale('log')\n",
    "g1.grid(visible=True, which=\"both\", axis='y')\n",
    "#g1.set_yticks( preTicks )\n",
    "g1.set_xlabel('', fontsize=10 )\n",
    "g1.set_ylabel('Annual Precipitation Depth ($mm$)', fontsize=10)\n",
    "g1.set_ylim( ( 0.0, 1850.0))\n",
    "g1.tick_params(axis='both', which='major', labelsize=10)\n",
    "g1.yaxis.set_major_formatter( mpl.ticker.StrMethodFormatter( \"{x:,.0f}\" ) )\n",
    "Fig1.savefig( OutFileSVG, dpi=600 )\n",
    "Fig1.savefig( OutFilePNG, dpi=600 )\n",
    "Fig1.savefig( OutFilePDF, dpi=600 )"
   ]
  },
  {
   "cell_type": "code",
   "execution_count": null,
   "id": "7af97a1a-19c5-4227-b2f8-eb0ca9e97b94",
   "metadata": {},
   "outputs": [],
   "source": []
  }
 ],
 "metadata": {
  "kernelspec": {
   "display_name": "Python 3 (ipykernel)",
   "language": "python",
   "name": "python3"
  },
  "language_info": {
   "codemirror_mode": {
    "name": "ipython",
    "version": 3
   },
   "file_extension": ".py",
   "mimetype": "text/x-python",
   "name": "python",
   "nbconvert_exporter": "python",
   "pygments_lexer": "ipython3",
   "version": "3.9.15"
  }
 },
 "nbformat": 4,
 "nbformat_minor": 5
}
